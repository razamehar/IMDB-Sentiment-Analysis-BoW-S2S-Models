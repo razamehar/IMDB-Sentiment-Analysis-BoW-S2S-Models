{
  "nbformat": 4,
  "nbformat_minor": 0,
  "metadata": {
    "colab": {
      "provenance": [],
      "gpuType": "T4",
      "include_colab_link": true
    },
    "kernelspec": {
      "name": "python3",
      "display_name": "Python 3"
    },
    "language_info": {
      "name": "python"
    },
    "accelerator": "GPU"
  },
  "cells": [
    {
      "cell_type": "markdown",
      "metadata": {
        "id": "view-in-github",
        "colab_type": "text"
      },
      "source": [
        "<a href=\"https://colab.research.google.com/github/razamehar/IMDB-Sentiment-Analysis-BoW-S2S-Models/blob/main/Sentiment_Analysis_V2ipynb.ipynb\" target=\"_parent\"><img src=\"https://colab.research.google.com/assets/colab-badge.svg\" alt=\"Open In Colab\"/></a>"
      ]
    },
    {
      "cell_type": "markdown",
      "source": [
        "# Data Download and Extraction\n",
        "\n",
        "---\n",
        "In this section, we focus on the steps required to download and extract the IMDB dataset. First, the dataset is retrieved from a specified URL, ensuring we have the necessary data for our analysis. After downloading, the contents of the dataset are extracted from the compressed tar.gz file. These steps are essential to prepare the data for subsequent processing and analysis, enabling us to work with the IMDB dataset effectively.\n"
      ],
      "metadata": {
        "id": "Ga3CyMBnw3or"
      }
    },
    {
      "cell_type": "code",
      "execution_count": null,
      "metadata": {
        "colab": {
          "base_uri": "https://localhost:8080/"
        },
        "id": "B0VF02SS9X6b",
        "outputId": "99c156fa-e0c3-47c4-c0d7-8d3afa78dc7f"
      },
      "outputs": [
        {
          "output_type": "stream",
          "name": "stdout",
          "text": [
            "  % Total    % Received % Xferd  Average Speed   Time    Time     Time  Current\n",
            "                                 Dload  Upload   Total   Spent    Left  Speed\n",
            "100 80.2M  100 80.2M    0     0  61.7M      0  0:00:01  0:00:01 --:--:-- 61.7M\n"
          ]
        }
      ],
      "source": [
        "# Download the IMDB dataset from the specified URL\n",
        "!curl -O https://ai.stanford.edu/~amaas/data/sentiment/aclImdb_v1.tar.gz\n",
        "\n",
        "# Extract the contents of the downloaded tar.gz file\n",
        "!tar -xf aclImdb_v1.tar.gz"
      ]
    },
    {
      "cell_type": "markdown",
      "source": [
        "# Utilities\n",
        "\n",
        "---\n",
        "This section contains utility functions designed to assist with various tasks related to dataset management and analysis.\n",
        "\n",
        "First, the get_info function is defined to display the count of files, the name of the first file, and the content of a random file in a specified directory. It accepts a sub-directory (e.g., 'train' or 'test') and a category (e.g., 'neg' or 'pos') as arguments and returns a list of file names along with the number of files.\n",
        "\n",
        "Next, the move_files function is implemented to move a specified number of files from the training set to a validation set. It takes a list of file names, the number of validation samples, and the category as inputs, shuffling the file list and transferring the designated files.\n",
        "\n",
        "The get_info_from_ds function is then defined to provide information about a batched dataset created using Keras's text_dataset_from_directory function. It prints the shape and data type of the inputs and targets, as well as the first input and target sample.\n",
        "\n",
        "Lastly, the analyze_text_samples function calculates the ratio of the number of training samples to the mean number of words per sample and returns a list of all the words in the text samples. It iterates through the text files in a specified directory, counting the total words and computing the mean words per sample. This ratio helps determine whether a bag-of-words or sequence model might perform better on the data.\n",
        "\n",
        "These utility functions provide essential tools for managing and analyzing text datasets, aiding in the preparation and evaluation processes."
      ],
      "metadata": {
        "id": "EPND2Mncw-4l"
      }
    },
    {
      "cell_type": "code",
      "source": [
        "# Define a function that displays the count of files, the name of the first file, and the content of a random file in the specified directory.\n",
        "\n",
        "import pathlib\n",
        "import os\n",
        "import random\n",
        "\n",
        "# Set the path of the base directory.\n",
        "base_dir = pathlib.Path('/content/aclImdb')\n",
        "\n",
        "def get_info(sub_dir, category):\n",
        "  '''\n",
        "    Args:\n",
        "        sub_dir (str): A sub-directory within the base directory (e.g., 'train' or 'test').\n",
        "        category (str): A class sub-directory within the sub-directory that defines the class (e.g., 'neg' or 'pos').\n",
        "\n",
        "    Return:\n",
        "        file_names (list): List of names of all files and folders in the specified directory.\n",
        "        num_files (int): Count of samples in the specified directory.\n",
        "  '''\n",
        "\n",
        "  # Join the paths.\n",
        "  path = base_dir / sub_dir / category\n",
        "\n",
        "  # Retrieve the list of names of all files and folders, if any, in the specified path.\n",
        "  file_names = os.listdir(path)\n",
        "\n",
        "  # Count of files\n",
        "  num_files = len(file_names)\n",
        "\n",
        "  # Display the count of samples and the name of first file.\n",
        "  print(f'Directory: {sub_dir} - Class: {category}')\n",
        "  print(f'\\tNumber of samples: {num_files}')\n",
        "  print(f'\\tName of the first file: {file_names[0]}')\n",
        "\n",
        "  # Read a random sample and display its content.\n",
        "  idx = random.randint(0, num_files)\n",
        "\n",
        "  with open(path/file_names[idx], 'r') as file:\n",
        "    content = file.read()\n",
        "\n",
        "  print(f'\\tContent of a random sample: {content}\\n')\n",
        "\n",
        "  return file_names, num_files"
      ],
      "metadata": {
        "id": "7ha98Q_7I2SI"
      },
      "execution_count": null,
      "outputs": []
    },
    {
      "cell_type": "code",
      "source": [
        "# Define a function that moves files from training to val.\n",
        "\n",
        "import shutil\n",
        "\n",
        "def move_files(file_names, num_val_samples, category):\n",
        "  '''\n",
        "    Args:\n",
        "      file_names (list): List of names all files and folders in the specified directory.\n",
        "      num_files (int): Count of samples in the specified directory.\n",
        "      category (str): A class sub-directory within the sub-directory that defines the class (e.g., 'neg' or 'pos').\n",
        "  '''\n",
        "  # Shuffle the files using the seed.\n",
        "  random.Random(1000).shuffle(file_names)\n",
        "\n",
        "  val_files = file_names[-num_val_samples:]\n",
        "\n",
        "  for fname in val_files:\n",
        "    shutil.move(train_dir / category / fname,\n",
        "                val_dir / category / fname)"
      ],
      "metadata": {
        "id": "z3pGBtjZQP09"
      },
      "execution_count": null,
      "outputs": []
    },
    {
      "cell_type": "code",
      "source": [
        "# Define a function that inputs information about the batched dataset.\n",
        "\n",
        "def get_info_from_ds(ds, ds_type):\n",
        "  '''\n",
        "    Args:\n",
        "      ds (tf_BatchDataset): A batched dataset created using Keras's text_dataset_from_directory function.\n",
        "      df_type (str): Name of the batched dataset.\n",
        "  '''\n",
        "  print(ds_type)\n",
        "\n",
        "  for inputs, targets in ds:\n",
        "    print(\"\\tinputs.shape:\", inputs.shape)\n",
        "    print(\"\\tinputs.dtype:\", inputs.dtype)\n",
        "    print(\"\\ttargets.shape:\", targets.shape)\n",
        "    print(\"\\ttargets.dtype:\", targets.dtype)\n",
        "    print(\"\\tinputs[0]:\", inputs[0])\n",
        "    print(\"\\ttargets[0]:\", targets[0])\n",
        "    break"
      ],
      "metadata": {
        "id": "5hVhOIsRWLbN"
      },
      "execution_count": null,
      "outputs": []
    },
    {
      "cell_type": "code",
      "source": [
        "# Define a function that calculates the ratio of number per training samples / mean words per samples and also returns the list of all the words in the text samples.\n",
        "import glob\n",
        "\n",
        "def analyze_text_samples(path):\n",
        "  '''\n",
        "    Args:\n",
        "      path (str): path to a directory containing samples.\n",
        "\n",
        "    Returns:\n",
        "      words (list): List of all the words in the sample.\n",
        "  '''\n",
        "\n",
        "  words_in_samples = 0\n",
        "  words = []\n",
        "\n",
        "  # Define the path to the directory containing the text files\n",
        "  path = path\n",
        "\n",
        "  # Get a list of all text files in the directory\n",
        "  txt_files = glob.glob(os.path.join(path, '*.txt'))\n",
        "\n",
        "  # Iterate through the list of files and print the content of each file\n",
        "  for file in txt_files:\n",
        "      with open(file, 'r', encoding='utf-8') as f:\n",
        "          content = f.read()\n",
        "          words.append(content.split())\n",
        "          words_in_samples += len(content.split()) # .split() is used as we want the count of words and not characters.\n",
        "\n",
        "  print('Total words in all the sampples:', words_in_samples)\n",
        "\n",
        "  mean_words_per_sample = words_in_samples/num_train_samples\n",
        "  mean_words_per_sample\n",
        "\n",
        "  print('Mean words per sample:', mean_words_per_sample)\n",
        "\n",
        "  ratio = num_train_samples/mean_words_per_sample\n",
        "  print('Ratio of number per training samples / mean words per samples:', ratio)\n",
        "  print('\\n')\n",
        "\n",
        "  if ratio < 1500:\n",
        "    print('Bag-of-words model might perform better on this data.')\n",
        "  else:\n",
        "    print('Sequence model might perform better on this data')\n",
        "\n",
        "  return words"
      ],
      "metadata": {
        "id": "DWJjuSXLiHZV"
      },
      "execution_count": null,
      "outputs": []
    },
    {
      "cell_type": "markdown",
      "source": [
        "# Data Review\n",
        "\n",
        "---\n",
        "In this section, we utilize the get_info function to review the IMDB dataset. This function helps display the count of samples, the name of the first file, and the content of a random sample within specified directories. The results from this function provide a comprehensive overview of the dataset structure and contents, aiding in understanding the data distribution.\n",
        "\n",
        "We start by applying the get_info function to the training data for both positive and negative classes. The function returns a list of file names and the number of files in each category, which will be useful for further processing:\n",
        "\n",
        "For the 'train' sub-directory, we gather information on both 'pos' (positive) and 'neg' (negative) categories.\n",
        "Next, we apply the get_info function to the test data. Although the count of files in the 'test' sub-directory is not required for subsequent steps, invoking this function provides insight into the test data's structure:\n",
        "\n",
        "We examine the 'pos' (positive) and 'neg' (negative) categories within the 'test' sub-directory.\n",
        "This review step ensures that we have a clear understanding of the dataset's composition, which is crucial for any further analysis or model training."
      ],
      "metadata": {
        "id": "plEEXZlAxIte"
      }
    },
    {
      "cell_type": "code",
      "source": [
        "# Use get_info() function to display the count of samples, the name of the first file, and the content of a random samples.\n",
        "# The function returns a list of file names as well as a count of files that will be utilized later.\n",
        "\n",
        "file_names_train_pos, num_files_train_pos = get_info('train', 'pos')\n",
        "file_names_train_neg, num_files_train_ne = get_info('train', 'neg')\n",
        "\n",
        "# Use _ as we will not require count of files in the class sub-directories of the test sub-directory.\n",
        "_, _ = get_info('test', 'pos')\n",
        "_, _ = get_info('test', 'neg')"
      ],
      "metadata": {
        "colab": {
          "base_uri": "https://localhost:8080/"
        },
        "id": "7YTb0kP3-SvY",
        "outputId": "3edaf656-549b-4a2c-b2b6-72788bb24bab"
      },
      "execution_count": null,
      "outputs": [
        {
          "output_type": "stream",
          "name": "stdout",
          "text": [
            "Directory: train - Class: pos\n",
            "\tNumber of samples: 12500\n",
            "\tName of the first file: 11657_9.txt\n",
            "\tContent of a random sample: It's really rare that you get an inside view at a media deception that has been so widely reported as official \"truth\" and caught so many \"news\" agencies with their pants down. This movie, in my view, deserves every price there is in journalism - it's objective (yes!), courageous and a real \"scoop\". It can do without comment, fake scenes or leading questions - everyone, including Chavez equally gets to make fools of themselves in their own words. The filmmakers \"only\" had to keep track of events and keep their cameras rolling.<br /><br />The Venezuelan elite teaches us \"How to depose of a President and sell it as a victory of democracy\". It's amazing that they lost in the end - so far. From what I know, the biggest TV station involved only got its terrestrial license revoked, they're still broadcasting via cable and satellite. I highly doubt whether George W. or Barack Obama would be that tolerant after an attempted coup. But then, they don't have to worry.<br /><br />The fact that the \"Chavez supporters shoot innocent civilians\" scam was so willingly repeated around the world reveals just how biased the so-called \"free\" (established) media really has become, or has always been, only more so. An important lesson to anyone interested in what \"really\" goes on in the world.<br /><br />The famous \"objectivity\" challenge always comes into play when journalists dare to oppose the mainstream view, or reveal unwelcome facts that accuse \"us\" - it has been true with the effects of the Atomic bomb, the US secret history of spreading \"democracy\" around the world or the Iraq war that, according to Johns Hopkins, has killed 1,3 million Iraquis by now, not to mention the 60,000 Afghans (in 2003) that are never mentioned. To be objective, Saddam Hussein was less damaging to his people than the US. And the US is ready & willing to be more damaging to the Iranians that he was.<br /><br />I'm quite curious about the upcoming trial of some Khmer Rouge leaders before the International Tribunal in The Hague, whether there will be any mention of \"our\" involvement in supporting and training Pol Pot's guerrillas in the 80's, when they had been largely defeated by the Vietnamese. Probably not.<br /><br />All the more reason to turn to the Independent media for balance, if not exposure of fraud.\n",
            "\n",
            "Directory: train - Class: neg\n",
            "\tNumber of samples: 12500\n",
            "\tName of the first file: 2266_1.txt\n",
            "\tContent of a random sample: My wife and I rented this movie because some people had drawn parallels between it and \"Office Space\". Blockbuster and IMDB even had it as an \"also recommended\" selection if you liked \"Office Space\".<br /><br />Now, I've seen Office Space probably 15 or 20 times. I love it. It's probably one of my 10 favorite movies. Witty, humorous, and featuring characters that remind me of people I've worked with over the years. \"Haiku Tunnel\" is similar to \"office Space\" in that they are both films. That's where the similarity ends. We sat through probably the first 50 minutes of HT, giving it the benefit of the doubt, hoping, nay, *praying* that it would get better. It didn't. We couldn't take it any more, and stopped the tape. Thank GOD it was a free rental. I'd have been p***ed if we'd actually paid for it. We should be reimbursed for having to sit through it. Now, since we didn't see the end, perhaps it miraculously comes together and redeems itself. I doubt it.<br /><br />Haiku Tunnel is so bad it's hard to believe it ever got produced. The movie is SO unfunny it's painful. Just mail the friggin letters already!!! The premise is asinine. The jokes are awful. We got as far as the \"printer doesn't work\" scene and had to stop. We couldn't take it anymore. This film is an EMBARRASMENT for Josh Kornbluth.<br /><br />If you are a fan of Office Space......don't waste your time with this turd. 0/10\n",
            "\n",
            "Directory: test - Class: pos\n",
            "\tNumber of samples: 12500\n",
            "\tName of the first file: 8145_9.txt\n",
            "\tContent of a random sample: If you're a fan of Turkish and Middle Eastern music, you're in great luck. This film is a documentary of current music in Istanbul, spanning the traditional to the modern. It's very good. You could not do better if you went to Istanbul yourself. We get interviews with Orhan Gencebay, concert clips of modern musical icons, a road show with a Romani (Gypsy) audience, Turkish Hip Hop (surprisingly very very good), and much much more. Some of the best female vocalists I've ever heard. A Kurdish woman singing in a hamam (steam bath) who will rip your heart out. Lots of social and political background. If this is your thing, you'll have a grand time. I could barely sit still in the theatre.<br /><br />CD soundtrack now available on amazon. Pricey.\n",
            "\n",
            "Directory: test - Class: neg\n",
            "\tNumber of samples: 12500\n",
            "\tName of the first file: 932_2.txt\n",
            "\tContent of a random sample: The most generic, surface-level biography you could hope for. Busey's impersonation of Holly is accurate -- but who wants to hear Gary Busey sing \"Maybe Baby\"? Typically, the members of the Hollies are used for comic relief and melodrama (Smith and Stroud, respectively) instead of as people or even characters. When Holly uses a string section, the old jewish-looking guys who come in tell him he's using the same techniques as Mozart. It's just this kind of cheeky statement that makes film biographies like this (and \"Amadeus\", about the aforementioned Mozart) so worthless. Some entertainment can be derived from Holly's excellent styles and songs done in a B-variation.\n",
            "\n"
          ]
        }
      ]
    },
    {
      "cell_type": "markdown",
      "source": [
        "**Observation:** The training datasets have equal positive and negative samples, indicating class balance."
      ],
      "metadata": {
        "id": "tezg_Axw7mmR"
      }
    },
    {
      "cell_type": "code",
      "source": [
        "# Delete the unnecessary unsup directory and all of its contents (subdirectories and files) within the aclImdb/train directory.\n",
        "!rm -r aclImdb/train/unsup"
      ],
      "metadata": {
        "id": "bt3DlzlKIcZG"
      },
      "execution_count": null,
      "outputs": []
    },
    {
      "cell_type": "markdown",
      "source": [
        "In this section, we undertake the creation of a validation dataset, a crucial step for evaluating machine learning model performance on unseen data during training. We start by defining paths for the training and test directories within the base directory. Next, we establish the validation directory, complete with sub-directories for positive and negative classes, ensuring their presence even if already existing. We then determine the number of validation samples by aggregating the counts of positive and negative training samples and allocating ten percent of this total for validation. Using the move_files function, we transfer the calculated number of files from the training directory to the validation directory, organizing positive and negative samples accordingly. Finally, we employ the get_info function to display updated file counts, the name of the first file, and the content of a random file in both the training and validation directories post-transfer, ensuring the creation of a validation dataset essential for assessing model generalization."
      ],
      "metadata": {
        "id": "HeW9JT0kxNf0"
      }
    },
    {
      "cell_type": "code",
      "source": [
        "# Set the paths of the train and test directories respectively.\n",
        "train_dir = base_dir / 'train'\n",
        "test_dir = base_dir / 'test'\n",
        "\n",
        "# Create the val directory.\n",
        "os.makedirs(base_dir / 'val' / 'pos', exist_ok=True)\n",
        "os.makedirs(base_dir / 'val' / 'neg', exist_ok=True)\n",
        "\n",
        "# Set the path of the val directory.\n",
        "val_dir = base_dir / 'val'"
      ],
      "metadata": {
        "id": "l3aIaNtPKDRJ"
      },
      "execution_count": null,
      "outputs": []
    },
    {
      "cell_type": "code",
      "source": [
        "num_files_train = num_files_train_pos + num_files_train_pos\n",
        "num_val_samples = int(num_files_train * 0.1)\n",
        "num_val_samples"
      ],
      "metadata": {
        "colab": {
          "base_uri": "https://localhost:8080/"
        },
        "id": "hkQKu-FGN7JB",
        "outputId": "7eb66db7-5872-43c7-a80c-50c2ba105ccd"
      },
      "execution_count": null,
      "outputs": [
        {
          "output_type": "execute_result",
          "data": {
            "text/plain": [
              "2500"
            ]
          },
          "metadata": {},
          "execution_count": 10
        }
      ]
    },
    {
      "cell_type": "code",
      "source": [
        "move_files(file_names_train_pos, num_val_samples, 'pos')\n",
        "move_files(file_names_train_neg, num_val_samples, 'neg')"
      ],
      "metadata": {
        "id": "dPLsJM61TBq2"
      },
      "execution_count": null,
      "outputs": []
    },
    {
      "cell_type": "code",
      "source": [
        "# Use get_info() function to display the count of files, the name of the first file, and the content of a random file for train and val after moving the files.\n",
        "_, _ = get_info('train', 'pos')\n",
        "_, _ = get_info('train', 'neg')\n",
        "_, _ = get_info('val', 'pos')\n",
        "_, _ = get_info('val', 'neg')"
      ],
      "metadata": {
        "colab": {
          "base_uri": "https://localhost:8080/"
        },
        "id": "IE3tiacFUypH",
        "outputId": "644d34e0-f363-4a10-8afe-76bcd0766fab"
      },
      "execution_count": null,
      "outputs": [
        {
          "output_type": "stream",
          "name": "stdout",
          "text": [
            "Directory: train - Class: pos\n",
            "\tNumber of samples: 10000\n",
            "\tName of the first file: 11657_9.txt\n",
            "\tContent of a random sample: I am amazed that movies like this can still be made. I watch all kinds of movies all the time with my friends and i can say that this is one of the best i ever seen. Never thinked that a movie of 146 minutes can make me think about it on and on.<br /><br />Washington, charismatic and intense as ever, plays Creasy, a washed-up ex-counter-terrorist agent who's taken to the bottle. Once he's assigned to protect young Pita (Dakota Fanning) in Mexico City, his emotional and redemptive arc is jump-started in the way only an adorable little girl can provide. Inevitably, Pita is kidnapped by thugs, and Creasy decides that most of Mexico City must pay the price for daring to take away his character's teddy-bear-clutching catalyst. Yes, he has become...a Man on Fire. <br /><br />You must see this movie.\n",
            "\n",
            "Directory: train - Class: neg\n",
            "\tNumber of samples: 10000\n",
            "\tName of the first file: 2266_1.txt\n",
            "\tContent of a random sample: I love Westerns. I could watch them all day. \"The Good, the Bad, and the Ugly\" is my all time favorite. I watched \"Silverado\" for probably the 8th time just the other day because it was being featured on CMT. However, this movie, Shiloh Falls is without a doubt the worst Western I have ever watched. The acting was terrible all around. They explain nothing at the end of the mysterious compass looking thing. The only good part I can think of is the good-looking cantina girl. The very noticeable long pauses between the dialog seemed intentional just to make up time to make the movie of acceptable length. This movie wasn't even worth the new rental fee I paid at our local movie rental store. I felt like I was robbed and deserving of a rental refund if there was such a thing. Only reason I finished it was because I hate to not see a movie through to the end. I turned it off half way through because it was so bad. To the director, please do a better job if you decide to make another. This is the kind of movie that has the potential to turn people off to Westerns.\n",
            "\n",
            "Directory: val - Class: pos\n",
            "\tNumber of samples: 2500\n",
            "\tName of the first file: 4920_7.txt\n",
            "\tContent of a random sample: Just got through watching this version of \"Samhain\", and even though I still like it, it's nothing like the \"rough cut\" version I have. If you check the message board, you'll see an apology from the director for this cut down version, 79 minutes., and he says he had nothing to do with this R-rated trimmed down edit with a completely new screwed up ending. Christian really doesn't need to distant himself that much, because the basic gore elements still stand up, even though highly trimmed down. This is a damn shame, because this had the potential of being one of the goriest and best gore films in years. It still has the porn stars, and the inbreds, and some of the extreme gore can at least be partially seen. I'm just glad I have that \"rough cut\", because to me, it's a jewel for any gorehounds library. Christian Viel definitely has the skill and vision to deliver the goods, and hopefully his next project will be better produced. The idiots had a near classic in their hands, and screwed it up for everybody. \"Samhain\" may be one of the most controversial and mishandled horror movies ever, and too bad gorehounds didn't get to see what the director intended.<br /><br />********************************************* Just so you know what you missed, this is my review based upon the \"work print\" of SAMHAIN.<br /><br />The movie runs a little over 90 minutes and has no chapter stops. There is absolutely NO music soundtrack, and some of the scenes have no audio on the dialog, because I think they are meant to be looped in later. However, most of the movie does have audio with sound affects, and when an effect or scene is missing, a message appears as a cue for insertion when the movie is completed. It's exactly as it says, a \"Rough Cut\", BUT the only uncut version of \"Samhain\" you are ever likely to see. Reason, because the gore is extremely graphic, much more than even an NC-17 would allow. Yes there are a few porn stars, but they are just there for the killing, and to add a little sugar and spice. The story is pretty standard, American tourists on a vacation in Ireland and end up staying in a home in the middle of the woods. An area that is heavy on folklore, involving the ancient Druids and the celebration of Samhain, or as we call it Halloween. (spooky)<br /><br />The movie starts off with a HUGE dose of gore, as a camping couple is attacked by one of the local inbred mutants. This is a great gore scene, as the guy find his girl hanging from a cliff, with her crying for help. All he sees is her head, arms, and shoulders hanging in front of him and when he pulls her up, she has been completely sliced in two. This is what I would call EXTREME GORE, with entrails, blood, and severed limbs all over the place. We are in Herschell Gordon Lewis territory here folks, except the effects look much more realistic. I'm going to just skip the story, because it's your standard stalk and kill plot.<br /><br />The next gore scene is something to behold, as the boyfriend from the first killing is taken to a cave like location (TCM-2 stuff), and bound to a table. This geek then cuts all of his limbs off (off camera, with a cue to insert a scene), and then we see his torso on a barbecue pit, turning slowly over a fire, and the torso has a hard-on (if you can believe that). Yes, very bad taste, gross, gruesome, you find the right word, and it will probably fit too.<br /><br />Then later Jenna Jameson, her beautiful body and all, is cut from neck to crotch, and all her entrails are pulled out in graphic glee, and her blood drains into a pot. Yummy, a real turn on huh?<br /><br />But the best gore scene happens inside the house, and I have to admit, this is one of the best gore scenes I have seen. This guy (doesn't matter who) is caught from behind from a geek, and cut open at the ass hole. The geek then puts his hands in and rips out all the guys entrails, intestines, and what the hell ever else there is, right from his asshole. This goes on FOREVER, as the guy is screaming and more and more innards are pulled out laying all over the bathroom floor. This is so extreme, so over the top, that I found myself laughing all to hell. Obviously, you will NEVER EVER see this scene on a proper DVD, IMO, along with most of the other really extreme gore scenes.<br /><br />So, what to think of all of this. Well, first of all, even though I doubt this movie would ever be released in this totally uncut presentation, it makes this \"Rough Cut\" a rare jewel for gorehounds. Yes, it's a little difficult at first, with no soundtrack, a few scenes to still be inserted, and credits that have missing names all over the place. But that's what makes this so unique, and I wouldn't trade it for anything right now. Extreme gore, yes yes, extreme extreme gore. This makes \"Haute Tension\" look like a Disney movie.\n",
            "\n",
            "Directory: val - Class: neg\n",
            "\tNumber of samples: 2500\n",
            "\tName of the first file: 6857_4.txt\n",
            "\tContent of a random sample: I will admit that I did not give this movie much of a chance. I decided pretty early on that this just wasn't my kind of movie.<br /><br />For the most part, it has an excellent look in terms of its cinematography. The scenes of early 70's Manhattan look very good, as does the lead actress. It is a very crisp black and white, which could almost make the movie feel undated and fresh. However, some of the other techniques the filmmakers employ shoot that prospect all to hell. The disjointed editing is VERY late-60's, somewhere between surrealism and new wave. The story also feels like it came from a very specific time, somewhere between free love idealism and artsy experimentation.<br /><br />The film follows a young girl around the city as she looks for a man who she had anonymous phone sex with. As she meets other odd characters, she reveals her quirks and they reveal theirs. The movie seems to be meant as an off-the-wall, irreverent comedy, but adds an avant-garde feel. I would expect that if you like Andy Warhol movies, you would be very excited to discover The Telephone Book.<br /><br />Some problems I had: Near the end of the movie, one character tells a rambling anecdote that lasts over twelve minutes-brutal to sit through. Also, there is a very explicit animation sequence that I found gross and juvenile that serves as the film's climax. I did laugh out loud four or five times, and I liked the ending (minus the flat-out disgusting animation). And when the film switched to color for the final phone-booth-at-night sequence, I actually liked the way it looked even better. It ended up being one of those experiences where I felt like I could have really liked it if it been a little different. But this is what the filmmakers gave us. It is obscure, artsy, and way left of the dial, but none of those are reasons to recommend it on their own. I didn't find it to be unique or creative so much as forced and pretentious.\n",
            "\n"
          ]
        }
      ]
    },
    {
      "cell_type": "markdown",
      "source": [
        "# Datasets Batch Creation\n",
        "\n",
        "---\n",
        "In this section, we create batched datasets for training, validation, and testing using TensorFlow's text_dataset_from_directory function. This process is essential for efficiently handling and feeding data into machine learning models.\n",
        "\n",
        "First, we define the batch size for the datasets, setting it to 32. This means that each batch will contain 32 samples. Next, we load the training dataset from the specified directory. The text_dataset_from_directory function is used to load the dataset from the 'train' directory, with the specified batch size.\n",
        "\n",
        "We then load the validation dataset. Similarly, the validation dataset is loaded from the 'val' directory, also using the specified batch size. Lastly, we load the test dataset. The test dataset is loaded from the 'test' directory, following the same procedure.\n",
        "\n",
        "To ensure the datasets are correctly loaded and structured, we use the get_info_from_ds function to display information about the training and validation datasets. This function prints the shape and data type of the inputs and targets, as well as the first input and target sample for both the training and validation datasets.\n",
        "\n",
        "By following these steps, we successfully create and batch the datasets, which are now ready for use in training, validating, and testing our machine learning models.\n"
      ],
      "metadata": {
        "id": "JgTKmjlYxUJK"
      }
    },
    {
      "cell_type": "code",
      "source": [
        "import tensorflow\n",
        "from tensorflow.keras.utils import text_dataset_from_directory\n",
        "\n",
        "# Define the batch size for the dataset\n",
        "batch_size = 32\n",
        "\n",
        "# Load the training dataset from the specified directory\n",
        "train_ds = text_dataset_from_directory(\n",
        "    '/content/aclImdb/train',\n",
        "    batch_size=batch_size\n",
        ")\n",
        "\n",
        "# Load the validation dataset from the specified directory\n",
        "val_ds = text_dataset_from_directory(\n",
        "    '/content/aclImdb/val',\n",
        "    batch_size=batch_size\n",
        ")\n",
        "\n",
        "# Load the test dataset from the specified directory\n",
        "test_ds = text_dataset_from_directory(\n",
        "    '/content/aclImdb/test',\n",
        "    batch_size=batch_size\n",
        ")"
      ],
      "metadata": {
        "colab": {
          "base_uri": "https://localhost:8080/"
        },
        "id": "OSrHGpW5VUs4",
        "outputId": "ffe483c6-2aed-447a-ca0a-619cfcae6212"
      },
      "execution_count": null,
      "outputs": [
        {
          "output_type": "stream",
          "name": "stdout",
          "text": [
            "Found 20000 files belonging to 2 classes.\n",
            "Found 5000 files belonging to 2 classes.\n",
            "Found 25000 files belonging to 2 classes.\n"
          ]
        }
      ]
    },
    {
      "cell_type": "code",
      "source": [
        "get_info_from_ds(train_ds, 'Train')\n",
        "get_info_from_ds(val_ds, 'Val')"
      ],
      "metadata": {
        "colab": {
          "base_uri": "https://localhost:8080/"
        },
        "id": "zOdg78UMXsPy",
        "outputId": "4b22e70e-591c-4d01-d95a-0b45e28b784d"
      },
      "execution_count": null,
      "outputs": [
        {
          "output_type": "stream",
          "name": "stdout",
          "text": [
            "Train\n",
            "\tinputs.shape: (32,)\n",
            "\tinputs.dtype: <dtype: 'string'>\n",
            "\ttargets.shape: (32,)\n",
            "\ttargets.dtype: <dtype: 'int32'>\n",
            "\tinputs[0]: tf.Tensor(b'I thought the original of this film was quaint and charming as well as having me sitting on the edge of my seat trying to figure it out.<br /><br />Since I had already seen the original, when I saw this on Sci Fi Channel- I don\\'t know if this remake was deliberately made for Sci Fi - I knew what it was within the first few minutes. Since I like Richard Burgi as a character actor, I wanted to see how he would pull it off.<br /><br />The writers/producers etc, modernized the film a bit by trying to explain the plight of the \"aliens\" (They could no longer reproduce their own kind and needed help) using the same pseudo science that has been crammed in our ears in the 90\\'s. Maybe it added a bit of polish to the film, or not.<br /><br />This film. Film? This production takes on a more sinister edge than the original did- The original ended with a confrontation between the young woman and the alien and an understanding of sorts took place, although no resolution of the Alien\\'s problem.<br /><br />I sort of remember that in this remake, the woman became rather hostile towards the Burgi/Alien- I think it could have ended better. But the ending is just the ending, and the yarn is a swell yarn, being of the basic 1958 Science Fiction Pulp Stock. Many great science fiction stories were written in the 50\\'s and some of them even made it to film.<br /><br />This is a swell thing to watch on like a rainy day or something. I rate it highly cos of all the remakes of old 50\\'s Sci Fi, this one came off well. I actually enjoyed this quite a bit.<br /><br />But if anyone really wants to see this story told WELL, I suggest the original 1958 version with Tom Tyron and Gloria Talbott, directed by Gene Fowler Jr.', shape=(), dtype=string)\n",
            "\ttargets[0]: tf.Tensor(1, shape=(), dtype=int32)\n",
            "Val\n",
            "\tinputs.shape: (32,)\n",
            "\tinputs.dtype: <dtype: 'string'>\n",
            "\ttargets.shape: (32,)\n",
            "\ttargets.dtype: <dtype: 'int32'>\n",
            "\tinputs[0]: tf.Tensor(b'Jesse and Celine (Ethan Hawke and Julie Delpy) are two strangers on a European train. The two come from widely different backgrounds, he\\'s American and she\\'s French, after they talk a bit on the train Jesse manages to get Celine to get off the train and explore Vienna with him. During the next several hours the two wander Vienna taking in all that the city has to offer and become madly infatuated with each other. But will this newfound relationship last past sunrise.<br /><br />This wonderful romantic-comedy is a breath of fresh air to a genre that has been in decline. Written and directed by Richard (Dazed and Confused) Linklater, \"Before Sunrise\" never bores because of its\\' small cast. In fact it flourishes due to the leads that make you love their characters and have a wonderful charisma between the two. Smart dialogue makes this a must for romance fans.', shape=(), dtype=string)\n",
            "\ttargets[0]: tf.Tensor(1, shape=(), dtype=int32)\n"
          ]
        }
      ]
    },
    {
      "cell_type": "markdown",
      "source": [
        "# Consideration for Model Selection"
      ],
      "metadata": {
        "id": "Z3UpDgSRxc3S"
      }
    },
    {
      "cell_type": "markdown",
      "source": [
        "**When to use a Sequence Model over Bag-of-Words Model**\n",
        "\n",
        "---\n",
        "Before proceeding with model selection, it's crucial to understand the characteristics of the dataset.\n",
        "\n",
        "First, we determine the total number of training samples by counting the files in both the 'positive' and 'negative' classes. Next, we calculate the total number of words across all samples and computing the mean number of words per sample.\n",
        "\n",
        "If the ratio between the number of samples in the training data and the average number of words per sample is less than 1500, then a bag-of-words model will perform better. Conversely, if the ratio is greater than 1500, a sequence model will perform better.\n",
        "\n",
        "In a bag-of-words model, word order is discarded, while order is considered in a sequence model. A third alternatie, the Transformer architecture presents a hybrid approach.\n",
        "\n",
        "*This heuristic rule is based on a systematic analysis of the performance of various text classification techniques across many different types of text datasets by Francois Chollet in 2017.*\n"
      ],
      "metadata": {
        "id": "5KnLjzZxcDly"
      }
    },
    {
      "cell_type": "code",
      "source": [
        "fname_pos = os.listdir('/content/aclImdb/train/pos')\n",
        "fname_neg = os.listdir('/content/aclImdb/train/neg')\n",
        "\n",
        "# Count of files\n",
        "num_train_samples = len(fname_pos + fname_neg)\n",
        "num_train_samples"
      ],
      "metadata": {
        "colab": {
          "base_uri": "https://localhost:8080/"
        },
        "id": "8TNO-Jt1a5us",
        "outputId": "d07fe0d1-5802-4d2a-c23e-c7e8d769bae4"
      },
      "execution_count": null,
      "outputs": [
        {
          "output_type": "execute_result",
          "data": {
            "text/plain": [
              "20000"
            ]
          },
          "metadata": {},
          "execution_count": 15
        }
      ]
    },
    {
      "cell_type": "code",
      "source": [
        "words = analyze_text_samples('/content/aclImdb/train/pos')"
      ],
      "metadata": {
        "colab": {
          "base_uri": "https://localhost:8080/"
        },
        "id": "vhENpLiHhJ9w",
        "outputId": "a6c7a8e2-9169-40a4-dade-6ca73c80a41a"
      },
      "execution_count": null,
      "outputs": [
        {
          "output_type": "stream",
          "name": "stdout",
          "text": [
            "Total words in all the sampples: 2369499\n",
            "Mean words per sample: 118.47495\n",
            "Ratio of number per training samples / mean words per samples: 168.81205689472753\n",
            "\n",
            "\n",
            "Bag-of-words model might perform better on this data.\n"
          ]
        }
      ]
    },
    {
      "cell_type": "markdown",
      "source": [
        "# Top 100 Words by Frequency\n",
        "\n",
        "---\n",
        "\n",
        "This section contains a visualization of the top 100 words by frequency. The words are categorized into four groups, each representing a range of word frequencies: the first group contains the top 30 words, the second group contains words ranked from 31 to 60, the third group contains words ranked from 61 to 90, and the fourth group consists of the remaining words, from 91 to 100. By examining these word frequencies, we gain insights into the distribution of language patterns within the dataset."
      ],
      "metadata": {
        "id": "QkkNmr95tOyX"
      }
    },
    {
      "cell_type": "code",
      "source": [
        "import string\n",
        "\n",
        "# Create a translation table to remove punctuation\n",
        "translator = str.maketrans('', '', string.punctuation)\n",
        "\n",
        "# Initialize an empty dictionary to store word frequencies\n",
        "words_dict = {}\n",
        "\n",
        "# Iterate over each list of words in the 'words' variable\n",
        "for list_words in words:\n",
        "    # Iterate over each word in the current list of words\n",
        "    for word in list_words:\n",
        "        # Strip leading and trailing whitespace, convert to lowercase\n",
        "        word = word.strip().lower()\n",
        "        # Remove punctuation from the word using the translation table\n",
        "        word = word.translate(translator)\n",
        "        # If the word is already in the dictionary, increment its count\n",
        "        if word in words_dict:\n",
        "            words_dict[word] += 1\n",
        "        # If the word is not in the dictionary, add it with a count of 1\n",
        "        else:\n",
        "            words_dict[word] = 1\n",
        "\n",
        "# Sort the dictionary by word frequency in descending order\n",
        "sorted_words_dict = dict(sorted(words_dict.items(), key=lambda x: x[1], reverse=True))"
      ],
      "metadata": {
        "id": "lJ5sxzLth20n"
      },
      "execution_count": null,
      "outputs": []
    },
    {
      "cell_type": "code",
      "source": [
        "import matplotlib.pyplot as plt\n",
        "\n",
        "top_30 = list(sorted_words_dict.keys())[:30]\n",
        "top_30_freq = list(sorted_words_dict.values())[:30]\n",
        "\n",
        "top_31_60 = list(sorted_words_dict.keys())[31:60]\n",
        "top_31_60_freq = list(sorted_words_dict.values())[31:60]\n",
        "\n",
        "top_61_90 = list(sorted_words_dict.keys())[61:90]\n",
        "top_61_90_freq = list(sorted_words_dict.values())[61:90]\n",
        "\n",
        "top_91_100 = list(sorted_words_dict.keys())[91:100]\n",
        "top_91_100_freq = list(sorted_words_dict.values())[91:100]\n",
        "\n",
        "fig, ax = plt.subplots(nrows=4, ncols=1, figsize=(20, 18))\n",
        "\n",
        "ax[0].bar(top_30, top_30_freq)\n",
        "ax[0].set_title('Top 30 Words')\n",
        "\n",
        "ax[1].bar(top_31_60, top_31_60_freq)\n",
        "ax[1].set_title('Top 31-60 Words')\n",
        "\n",
        "ax[2].bar(top_61_90, top_61_90_freq)\n",
        "ax[2].set_title('Top 30 Words')\n",
        "\n",
        "ax[3].bar(top_91_100, top_91_100_freq)\n",
        "ax[3].set_title('Top 31-60 Words')"
      ],
      "metadata": {
        "colab": {
          "base_uri": "https://localhost:8080/",
          "height": 1000
        },
        "id": "sTQ16Fj6nj6H",
        "outputId": "dd6605df-947e-42b8-c35e-d1e025adbe93"
      },
      "execution_count": null,
      "outputs": [
        {
          "output_type": "execute_result",
          "data": {
            "text/plain": [
              "Text(0.5, 1.0, 'Top 31-60 Words')"
            ]
          },
          "metadata": {},
          "execution_count": 18
        },
        {
          "output_type": "display_data",
          "data": {
            "text/plain": [
              "<Figure size 2000x1800 with 4 Axes>"
            ],
            "image/png": "[encoded data removed]"
          },
          "metadata": {}
        }
      ]
    },
    {
      "cell_type": "markdown",
      "source": [
        "# Bag-of Words Model Utility\n",
        "\n",
        "---\n",
        "\n",
        "In this section, a utility function is provided for building a Bag-of-Words model. This function constructs a neural network model using TensorFlow's Keras API.\n",
        "\n",
        "The model architecture includes an input layer with a shape based on the maximum number of tokens (max_tokens), followed by a dense hidden layer with ReLU activation. A dropout layer is added to prevent overfitting, with a dropout rate of 50%. Finally, an output layer with a sigmoid activation function is included for binary classification.\n",
        "\n",
        "The model is compiled using the Adam optimizer and binary crossentropy loss function, making it suitable for binary classification tasks.\n",
        "\n",
        "This utility function offers flexibility by allowing customization of parameters such as the maximum number of tokens, the dimensionality of the hidden layer, and the dropout rate. By using this function, users can easily create and compile Bag-of-Words models tailored to their specific requirements."
      ],
      "metadata": {
        "id": "MBOmGFK8U70V"
      }
    },
    {
      "cell_type": "code",
      "source": [
        "max_tokens=20000\n",
        "max_length=600\n",
        "epochs=15"
      ],
      "metadata": {
        "id": "_lN6uwy-YU3e"
      },
      "execution_count": null,
      "outputs": []
    },
    {
      "cell_type": "code",
      "source": [
        "from tensorflow.keras.layers import Input, Dense, Dropout\n",
        "from tensorflow.keras import Model\n",
        "from tensorflow.keras.models import load_model\n",
        "\n",
        "# Function to build a neural network model\n",
        "def build_model(max_tokens=max_tokens, hidden_dims=16):\n",
        "    # Define the input layer with the shape based on max_tokens\n",
        "    inputs = Input(shape=(max_tokens,), name='Input_layer')\n",
        "\n",
        "    # Add a dense hidden layer with ReLU activation\n",
        "    x = Dense(hidden_dims, activation='relu', name='Hidden_layer')(inputs)\n",
        "\n",
        "    # Add a dropout layer to prevent overfitting\n",
        "    x = Dropout(0.50)(x)\n",
        "\n",
        "    # Add the output layer with sigmoid activation for binary classification\n",
        "    outputs = Dense(1, activation='sigmoid', name='Output_layer')(x)\n",
        "\n",
        "    # Create the model by specifying inputs and outputs\n",
        "    model = Model(inputs, outputs, name='Bag_of_Words_Model')\n",
        "\n",
        "    # Compile the model with Adam optimizer and binary crossentropy loss function\n",
        "    model.compile(optimizer='adam',\n",
        "                  loss='binary_crossentropy',\n",
        "                  metrics=['accuracy'])\n",
        "\n",
        "    # Return the compiled model\n",
        "    return model"
      ],
      "metadata": {
        "id": "mc4s5NGJU-Ug"
      },
      "execution_count": null,
      "outputs": []
    },
    {
      "cell_type": "markdown",
      "source": [
        "# UniGram Model\n",
        "\n",
        "---\n",
        "In this section, a UniGram model is implemented for text classification using TensorFlow's Keras API.\n",
        "\n",
        "The TextVectorization layer is utilized to preprocess and vectorize the text data. The ngrams parameter is set to 1, indicating unigrams (individual words), and the output_mode is set to 'multi_hot', which outputs a binary vector indicating the presence or absence of each token in the vocabulary.\n",
        "\n",
        "The vocabulary of all unigram tokens in the dataset is built and indexed using the adapt method of the text_vectorization layer. Subsequently, the datasets are preprocessed and vectorized using this layer.\n",
        "\n",
        "Training, validation, and testing datasets are prepared by mapping the text data to their corresponding vectorized representations.\n",
        "\n",
        "A neural network model is built using the build_model function, with 20,000 max tokens and 64 hidden dimensions. The model is then compiled and trained using the binary crossentropy loss function and Adam optimizer. Model checkpoints are saved to ensure the best performing model is retained.\n",
        "\n",
        "After training, the model is evaluated on the test dataset, and the test accuracy is printed.\n",
        "\n",
        "This UniGram model serves as a baseline for text classification tasks, providing a foundation for more advanced models to be built upon."
      ],
      "metadata": {
        "id": "_IrtVQSyyA-w"
      }
    },
    {
      "cell_type": "code",
      "source": [
        "from tensorflow.keras.layers import TextVectorization\n",
        "\n",
        "ngrams=1\n",
        "\n",
        "text_vectorization = TextVectorization(\n",
        "    max_tokens=max_tokens,\n",
        "    ngrams=ngrams,\n",
        "    output_mode='multi_hot'\n",
        ")\n",
        "\n",
        "# Extract only inputs and not labels from the dataset.\n",
        "text_only_ds = train_ds.map(lambda x, y: x)\n",
        "\n",
        "# Build the vocabulary of all unigram tokens in the dataset and index it.\n",
        "text_vectorization.adapt(text_only_ds)\n",
        "\n",
        "# Preprocess and vectorize the datasets.\n",
        "binary_1gram_train_ds = train_ds.map(lambda x, y: (text_vectorization(x), y))\n",
        "\n",
        "binary_1gram_val_ds = test_ds.map(lambda x, y: (text_vectorization(x), y))\n",
        "\n",
        "binary_1gram_test_ds = test_ds.map(lambda x, y: (text_vectorization(x), y))"
      ],
      "metadata": {
        "id": "YuMNnolgox-b"
      },
      "execution_count": null,
      "outputs": []
    },
    {
      "cell_type": "code",
      "source": [
        "get_info_from_ds(binary_1gram_train_ds, 'Train')\n",
        "get_info_from_ds(binary_1gram_val_ds, 'Val')\n",
        "get_info_from_ds(binary_1gram_test_ds, 'Test')"
      ],
      "metadata": {
        "colab": {
          "base_uri": "https://localhost:8080/"
        },
        "id": "W5RQOhD0rYgE",
        "outputId": "7af317e6-39ef-4b4f-a101-75446a3a5fcc"
      },
      "execution_count": null,
      "outputs": [
        {
          "output_type": "stream",
          "name": "stdout",
          "text": [
            "Train\n",
            "\tinputs.shape: (32, 20000)\n",
            "\tinputs.dtype: <dtype: 'float32'>\n",
            "\ttargets.shape: (32,)\n",
            "\ttargets.dtype: <dtype: 'int32'>\n",
            "\tinputs[0]: tf.Tensor([1. 1. 1. ... 0. 0. 0.], shape=(20000,), dtype=float32)\n",
            "\ttargets[0]: tf.Tensor(2, shape=(), dtype=int32)\n",
            "Val\n",
            "\tinputs.shape: (32, 20000)\n",
            "\tinputs.dtype: <dtype: 'float32'>\n",
            "\ttargets.shape: (32,)\n",
            "\ttargets.dtype: <dtype: 'int32'>\n",
            "\tinputs[0]: tf.Tensor([1. 1. 1. ... 0. 0. 0.], shape=(20000,), dtype=float32)\n",
            "\ttargets[0]: tf.Tensor(1, shape=(), dtype=int32)\n",
            "Test\n",
            "\tinputs.shape: (32, 20000)\n",
            "\tinputs.dtype: <dtype: 'float32'>\n",
            "\ttargets.shape: (32,)\n",
            "\ttargets.dtype: <dtype: 'int32'>\n",
            "\tinputs[0]: tf.Tensor([1. 1. 1. ... 0. 0. 0.], shape=(20000,), dtype=float32)\n",
            "\ttargets[0]: tf.Tensor(1, shape=(), dtype=int32)\n"
          ]
        }
      ]
    },
    {
      "cell_type": "code",
      "source": [
        "model1 = build_model(20000, 64)\n",
        "model1.summary()"
      ],
      "metadata": {
        "colab": {
          "base_uri": "https://localhost:8080/"
        },
        "id": "2KZyoCKUWXAi",
        "outputId": "d49bee19-f304-48b3-8149-87eb43b1146a"
      },
      "execution_count": null,
      "outputs": [
        {
          "output_type": "stream",
          "name": "stdout",
          "text": [
            "Model: \"Bag_of_Words_Model\"\n",
            "_________________________________________________________________\n",
            " Layer (type)                Output Shape              Param #   \n",
            "=================================================================\n",
            " Input_layer (InputLayer)    [(None, 20000)]           0         \n",
            "                                                                 \n",
            " Hidden_layer (Dense)        (None, 64)                1280064   \n",
            "                                                                 \n",
            " dropout (Dropout)           (None, 64)                0         \n",
            "                                                                 \n",
            " Output_layer (Dense)        (None, 1)                 65        \n",
            "                                                                 \n",
            "=================================================================\n",
            "Total params: 1280129 (4.88 MB)\n",
            "Trainable params: 1280129 (4.88 MB)\n",
            "Non-trainable params: 0 (0.00 Byte)\n",
            "_________________________________________________________________\n"
          ]
        }
      ]
    },
    {
      "cell_type": "code",
      "source": [
        "from keras.callbacks import ModelCheckpoint\n",
        "\n",
        "callbacks = [\n",
        " ModelCheckpoint(\"binary_1gram.keras\",\n",
        "                 save_best_only=True)\n",
        "]\n",
        "\n",
        "epochs=15"
      ],
      "metadata": {
        "id": "dJAb40qRbfU1"
      },
      "execution_count": null,
      "outputs": []
    },
    {
      "cell_type": "code",
      "source": [
        "model1.fit(binary_1gram_train_ds.cache(),\n",
        "validation_data=binary_1gram_val_ds.cache(),\n",
        " epochs=epochs,\n",
        " callbacks=callbacks)"
      ],
      "metadata": {
        "colab": {
          "base_uri": "https://localhost:8080/"
        },
        "id": "UGQsddUUW77_",
        "outputId": "e77e54f5-74a5-4fa1-967f-b7f88d8dba5b"
      },
      "execution_count": null,
      "outputs": [
        {
          "output_type": "stream",
          "name": "stdout",
          "text": [
            "Epoch 1/15\n",
            "625/625 [==============================] - 24s 38ms/step - loss: 0.0081 - accuracy: 0.9977 - val_loss: 0.7804 - val_accuracy: 0.8661\n",
            "Epoch 2/15\n",
            "625/625 [==============================] - 15s 23ms/step - loss: 0.0067 - accuracy: 0.9981 - val_loss: 0.8070 - val_accuracy: 0.8664\n",
            "Epoch 3/15\n",
            "625/625 [==============================] - 16s 25ms/step - loss: 0.0061 - accuracy: 0.9982 - val_loss: 0.8015 - val_accuracy: 0.8658\n",
            "Epoch 4/15\n",
            "625/625 [==============================] - 15s 24ms/step - loss: 0.0057 - accuracy: 0.9982 - val_loss: 0.8540 - val_accuracy: 0.8646\n",
            "Epoch 5/15\n",
            "625/625 [==============================] - 15s 24ms/step - loss: 0.0062 - accuracy: 0.9985 - val_loss: 0.8639 - val_accuracy: 0.8631\n",
            "Epoch 6/15\n",
            "625/625 [==============================] - 16s 25ms/step - loss: 0.0062 - accuracy: 0.9980 - val_loss: 0.9080 - val_accuracy: 0.8629\n",
            "Epoch 7/15\n",
            "625/625 [==============================] - 13s 21ms/step - loss: 0.0055 - accuracy: 0.9980 - val_loss: 0.8752 - val_accuracy: 0.8617\n",
            "Epoch 8/15\n",
            "625/625 [==============================] - 16s 25ms/step - loss: 0.0083 - accuracy: 0.9981 - val_loss: 0.9515 - val_accuracy: 0.8626\n",
            "Epoch 9/15\n",
            "625/625 [==============================] - 13s 21ms/step - loss: 0.0079 - accuracy: 0.9977 - val_loss: 0.8999 - val_accuracy: 0.8637\n",
            "Epoch 10/15\n",
            "625/625 [==============================] - 13s 21ms/step - loss: 0.0053 - accuracy: 0.9984 - val_loss: 0.9550 - val_accuracy: 0.8636\n",
            "Epoch 11/15\n",
            "625/625 [==============================] - 13s 21ms/step - loss: 0.0034 - accuracy: 0.9990 - val_loss: 1.0535 - val_accuracy: 0.8653\n",
            "Epoch 12/15\n",
            "625/625 [==============================] - 16s 25ms/step - loss: 0.0033 - accuracy: 0.9988 - val_loss: 1.0377 - val_accuracy: 0.8639\n",
            "Epoch 13/15\n",
            "625/625 [==============================] - 14s 23ms/step - loss: 0.0052 - accuracy: 0.9984 - val_loss: 1.0661 - val_accuracy: 0.8639\n",
            "Epoch 14/15\n",
            "625/625 [==============================] - 13s 21ms/step - loss: 0.0049 - accuracy: 0.9981 - val_loss: 1.0539 - val_accuracy: 0.8643\n",
            "Epoch 15/15\n",
            "625/625 [==============================] - 16s 26ms/step - loss: 0.0062 - accuracy: 0.9984 - val_loss: 1.0508 - val_accuracy: 0.8620\n"
          ]
        },
        {
          "output_type": "execute_result",
          "data": {
            "text/plain": [
              "<keras.src.callbacks.History at 0x7a538151b9a0>"
            ]
          },
          "metadata": {},
          "execution_count": 129
        }
      ]
    },
    {
      "cell_type": "code",
      "source": [
        "model1 = load_model(\"binary_1gram.keras\")\n",
        "print(f\"Test accuracy: {model1.evaluate(binary_1gram_test_ds)[1]:.3f}\")"
      ],
      "metadata": {
        "colab": {
          "base_uri": "https://localhost:8080/"
        },
        "id": "x3Kh-_SWXgbx",
        "outputId": "0b198a31-67b9-4b30-f19a-931b9c4bdc0a"
      },
      "execution_count": null,
      "outputs": [
        {
          "output_type": "stream",
          "name": "stdout",
          "text": [
            "782/782 [==============================] - 6s 8ms/step - loss: 0.7804 - accuracy: 0.8661\n",
            "Test accuracy: 0.866\n"
          ]
        }
      ]
    },
    {
      "cell_type": "markdown",
      "source": [
        "The unigram model achieves an accuracy of 86.7% on the test data. Let's try a bigram model to assess its performance."
      ],
      "metadata": {
        "id": "z4jsg_DhfAEo"
      }
    },
    {
      "cell_type": "markdown",
      "source": [
        "# BiGram Model\n",
        "\n",
        "---\n",
        "\n",
        "In this section, a BiGram model is implemented for text classification using TensorFlow's Keras API.\n",
        "\n",
        "The TextVectorization layer is employed to preprocess and vectorize the text data. The ngrams parameter is set to 2, indicating bigrams (pairs of consecutive words), and the output_mode is set to 'multi_hot', which outputs a binary vector indicating the presence or absence of each token in the vocabulary.\n",
        "\n",
        "The vocabulary of all bigram tokens in the dataset is built and indexed using the adapt method of the text_vectorization layer. Subsequently, the datasets are preprocessed and vectorized using this layer.\n",
        "\n",
        "Training, validation, and testing datasets are prepared by mapping the text data to their corresponding vectorized representations.\n",
        "\n",
        "A neural network model is built using the build_model function, with 20,000 max tokens and 16 hidden dimensions. The model is then compiled and trained using the binary crossentropy loss function and Adam optimizer. Model checkpoints are saved to ensure the best performing model is retained.\n",
        "\n",
        "After training, the model is evaluated on the test dataset, and the test accuracy is printed.\n",
        "\n",
        "This BiGram model extends the UniGram model by considering pairs of consecutive words, potentially capturing more complex patterns in the text data."
      ],
      "metadata": {
        "id": "07QFgBeq9pKx"
      }
    },
    {
      "cell_type": "code",
      "source": [
        "ngrams=2\n",
        "\n",
        "text_vectorization = TextVectorization(\n",
        "    max_tokens=max_tokens,\n",
        "    ngrams=ngrams,\n",
        "    output_mode='multi_hot'\n",
        ")\n",
        "\n",
        "# Build the vocabulary of all bigram tokens in the dataset and index it.\n",
        "text_vectorization.adapt(text_only_ds)\n",
        "\n",
        "# Preprocess and vectorize the datasets.\n",
        "binary_2gram_train_ds = train_ds.map(lambda x, y: (text_vectorization(x), y))\n",
        "\n",
        "binary_2gram_val_ds = test_ds.map(lambda x, y: (text_vectorization(x), y))\n",
        "\n",
        "binary_2gram_test_ds = test_ds.map(lambda x, y: (text_vectorization(x), y))"
      ],
      "metadata": {
        "id": "zlZnp9LD9tkO"
      },
      "execution_count": null,
      "outputs": []
    },
    {
      "cell_type": "code",
      "source": [
        "get_info_from_ds(binary_2gram_train_ds, 'Train')\n",
        "get_info_from_ds(binary_2gram_val_ds, 'Val')\n",
        "get_info_from_ds(binary_2gram_test_ds, 'Test')"
      ],
      "metadata": {
        "colab": {
          "base_uri": "https://localhost:8080/"
        },
        "id": "YfRpJkYh-N8Y",
        "outputId": "026436de-4340-468d-df17-0bbb0e40a708"
      },
      "execution_count": null,
      "outputs": [
        {
          "output_type": "stream",
          "name": "stdout",
          "text": [
            "Train\n",
            "\tinputs.shape: (32, 20000)\n",
            "\tinputs.dtype: <dtype: 'float32'>\n",
            "\ttargets.shape: (32,)\n",
            "\ttargets.dtype: <dtype: 'int32'>\n",
            "\tinputs[0]: tf.Tensor([1. 1. 1. ... 0. 0. 0.], shape=(20000,), dtype=float32)\n",
            "\ttargets[0]: tf.Tensor(0, shape=(), dtype=int32)\n",
            "Val\n",
            "\tinputs.shape: (32, 20000)\n",
            "\tinputs.dtype: <dtype: 'float32'>\n",
            "\ttargets.shape: (32,)\n",
            "\ttargets.dtype: <dtype: 'int32'>\n",
            "\tinputs[0]: tf.Tensor([1. 1. 1. ... 0. 0. 0.], shape=(20000,), dtype=float32)\n",
            "\ttargets[0]: tf.Tensor(1, shape=(), dtype=int32)\n",
            "Test\n",
            "\tinputs.shape: (32, 20000)\n",
            "\tinputs.dtype: <dtype: 'float32'>\n",
            "\ttargets.shape: (32,)\n",
            "\ttargets.dtype: <dtype: 'int32'>\n",
            "\tinputs[0]: tf.Tensor([1. 1. 1. ... 0. 0. 0.], shape=(20000,), dtype=float32)\n",
            "\ttargets[0]: tf.Tensor(0, shape=(), dtype=int32)\n"
          ]
        }
      ]
    },
    {
      "cell_type": "code",
      "source": [
        "model2 = build_model(20000, 16)\n",
        "model2.summary()"
      ],
      "metadata": {
        "colab": {
          "base_uri": "https://localhost:8080/"
        },
        "id": "DYyd_Mol-y7f",
        "outputId": "1bbbb49e-162b-4294-9a42-6cb1c2b6dc19"
      },
      "execution_count": null,
      "outputs": [
        {
          "output_type": "stream",
          "name": "stdout",
          "text": [
            "Model: \"Bag_of_Words_Model\"\n",
            "_________________________________________________________________\n",
            " Layer (type)                Output Shape              Param #   \n",
            "=================================================================\n",
            " Input_layer (InputLayer)    [(None, 20000)]           0         \n",
            "                                                                 \n",
            " Hidden_layer (Dense)        (None, 16)                320016    \n",
            "                                                                 \n",
            " dropout_4 (Dropout)         (None, 16)                0         \n",
            "                                                                 \n",
            " Output_layer (Dense)        (None, 1)                 17        \n",
            "                                                                 \n",
            "=================================================================\n",
            "Total params: 320033 (1.22 MB)\n",
            "Trainable params: 320033 (1.22 MB)\n",
            "Non-trainable params: 0 (0.00 Byte)\n",
            "_________________________________________________________________\n"
          ]
        }
      ]
    },
    {
      "cell_type": "code",
      "source": [
        "callbacks = [\n",
        " ModelCheckpoint(\"binary_2gram.keras\",\n",
        "                 save_best_only=True)\n",
        "]\n",
        "\n",
        "epochs=15"
      ],
      "metadata": {
        "id": "qa8_sY3C-22f"
      },
      "execution_count": null,
      "outputs": []
    },
    {
      "cell_type": "code",
      "source": [
        "model2.fit(binary_2gram_train_ds.cache(),\n",
        "validation_data=binary_2gram_val_ds.cache(),\n",
        " epochs=epochs,\n",
        " callbacks=callbacks)"
      ],
      "metadata": {
        "colab": {
          "base_uri": "https://localhost:8080/"
        },
        "id": "PU3s1IBX-6-f",
        "outputId": "7e7dcc5f-e032-4bef-953e-999dff2a0f09"
      },
      "execution_count": null,
      "outputs": [
        {
          "output_type": "stream",
          "name": "stdout",
          "text": [
            "Epoch 1/15\n",
            "625/625 [==============================] - 11s 16ms/step - loss: 0.1334 - accuracy: 0.9551 - val_loss: 0.2814 - val_accuracy: 0.8916\n",
            "Epoch 2/15\n",
            "625/625 [==============================] - 4s 7ms/step - loss: 0.1007 - accuracy: 0.9653 - val_loss: 0.3189 - val_accuracy: 0.8917\n",
            "Epoch 3/15\n",
            "625/625 [==============================] - 4s 6ms/step - loss: 0.0807 - accuracy: 0.9732 - val_loss: 0.3405 - val_accuracy: 0.8898\n",
            "Epoch 4/15\n",
            "625/625 [==============================] - 4s 6ms/step - loss: 0.0586 - accuracy: 0.9800 - val_loss: 0.4030 - val_accuracy: 0.8896\n",
            "Epoch 5/15\n",
            "625/625 [==============================] - 4s 6ms/step - loss: 0.0537 - accuracy: 0.9823 - val_loss: 0.4128 - val_accuracy: 0.8874\n",
            "Epoch 6/15\n",
            "625/625 [==============================] - 4s 6ms/step - loss: 0.0454 - accuracy: 0.9850 - val_loss: 0.4273 - val_accuracy: 0.8890\n",
            "Epoch 7/15\n",
            "625/625 [==============================] - 4s 7ms/step - loss: 0.0457 - accuracy: 0.9829 - val_loss: 0.4490 - val_accuracy: 0.8882\n",
            "Epoch 8/15\n",
            "625/625 [==============================] - 4s 6ms/step - loss: 0.0424 - accuracy: 0.9851 - val_loss: 0.4652 - val_accuracy: 0.8874\n",
            "Epoch 9/15\n",
            "625/625 [==============================] - 5s 8ms/step - loss: 0.0384 - accuracy: 0.9859 - val_loss: 0.5347 - val_accuracy: 0.8876\n",
            "Epoch 10/15\n",
            "625/625 [==============================] - 4s 6ms/step - loss: 0.0394 - accuracy: 0.9850 - val_loss: 0.5219 - val_accuracy: 0.8877\n",
            "Epoch 11/15\n",
            "625/625 [==============================] - 4s 6ms/step - loss: 0.0360 - accuracy: 0.9864 - val_loss: 0.5415 - val_accuracy: 0.8857\n",
            "Epoch 12/15\n",
            "625/625 [==============================] - 5s 7ms/step - loss: 0.0329 - accuracy: 0.9870 - val_loss: 0.5952 - val_accuracy: 0.8862\n",
            "Epoch 13/15\n",
            "625/625 [==============================] - 5s 8ms/step - loss: 0.0321 - accuracy: 0.9889 - val_loss: 0.5694 - val_accuracy: 0.8861\n",
            "Epoch 14/15\n",
            "625/625 [==============================] - 4s 6ms/step - loss: 0.0326 - accuracy: 0.9878 - val_loss: 0.6264 - val_accuracy: 0.8869\n",
            "Epoch 15/15\n",
            "625/625 [==============================] - 5s 8ms/step - loss: 0.0322 - accuracy: 0.9882 - val_loss: 0.6377 - val_accuracy: 0.8847\n"
          ]
        },
        {
          "output_type": "execute_result",
          "data": {
            "text/plain": [
              "<keras.src.callbacks.History at 0x7a689b360550>"
            ]
          },
          "metadata": {},
          "execution_count": 41
        }
      ]
    },
    {
      "cell_type": "code",
      "source": [
        "model2 = load_model(\"binary_2gram.keras\")\n",
        "print(f\"Test accuracy: {model2.evaluate(binary_2gram_test_ds)[1]:.3f}\")"
      ],
      "metadata": {
        "colab": {
          "base_uri": "https://localhost:8080/"
        },
        "id": "4a4aCCVA--_3",
        "outputId": "4d76f121-9309-4c33-919f-ed15205f6352"
      },
      "execution_count": null,
      "outputs": [
        {
          "output_type": "stream",
          "name": "stdout",
          "text": [
            "782/782 [==============================] - 4s 5ms/step - loss: 0.2562 - accuracy: 0.8951\n",
            "Test accuracy: 0.895\n"
          ]
        }
      ]
    },
    {
      "cell_type": "markdown",
      "source": [
        "Compared to the unigram model's accuracy of 88.1%, the bigram model has shown an improved accuracy of 89.5% on the test data, indicating the significance of local word order."
      ],
      "metadata": {
        "id": "KZVaUZD8dFL5"
      }
    },
    {
      "cell_type": "markdown",
      "source": [
        "# TriGram Model\n",
        "\n",
        "---\n",
        "\n",
        "In this section, a TriGram model is implemented for text classification using TensorFlow's Keras API.\n",
        "\n",
        "The TextVectorization layer is utilized to preprocess and vectorize the text data. The ngrams parameter is set to 3, indicating trigrams (sequences of three consecutive words), and the output_mode is set to 'multi_hot', which outputs a binary vector indicating the presence or absence of each token in the vocabulary.\n",
        "\n",
        "The vocabulary of all trigram tokens in the dataset is built and indexed using the adapt method of the text_vectorization layer. Subsequently, the datasets are preprocessed and vectorized using this layer.\n",
        "\n",
        "Training, validation, and testing datasets are prepared by mapping the text data to their corresponding vectorized representations.\n",
        "\n",
        "A neural network model is built using the build_model function, with 20,000 max tokens and 16 hidden dimensions. The model is then compiled and trained using the binary crossentropy loss function and Adam optimizer. Model checkpoints are saved to ensure the best performing model is retained.\n",
        "\n",
        "After training, the model is evaluated on the test dataset, and the test accuracy is printed.\n",
        "\n",
        "This TriGram model further extends the BiGram model by considering sequences of three consecutive words, potentially capturing even more nuanced patterns in the text data."
      ],
      "metadata": {
        "id": "4bf5l2OSdnX7"
      }
    },
    {
      "cell_type": "code",
      "source": [
        "ngrams=3\n",
        "\n",
        "text_vectorization = TextVectorization(\n",
        "    max_tokens=max_tokens,\n",
        "    ngrams=ngrams,\n",
        "    output_mode='multi_hot'\n",
        ")\n",
        "\n",
        "# Build the vocabulary of all trigram tokens in the dataset and index it.\n",
        "text_vectorization.adapt(text_only_ds)\n",
        "\n",
        "# Preprocess and vectorize the datasets.\n",
        "binary_3gram_train_ds = train_ds.map(lambda x, y: (text_vectorization(x), y))\n",
        "\n",
        "binary_3gram_val_ds = test_ds.map(lambda x, y: (text_vectorization(x), y))\n",
        "\n",
        "binary_3gram_test_ds = test_ds.map(lambda x, y: (text_vectorization(x), y))"
      ],
      "metadata": {
        "id": "GMFVtzD5dsVP"
      },
      "execution_count": null,
      "outputs": []
    },
    {
      "cell_type": "code",
      "source": [
        "get_info_from_ds(binary_3gram_train_ds, 'Train')\n",
        "get_info_from_ds(binary_3gram_val_ds, 'Val')\n",
        "get_info_from_ds(binary_3gram_test_ds, 'Test')"
      ],
      "metadata": {
        "colab": {
          "base_uri": "https://localhost:8080/"
        },
        "id": "m59AqMLsdy-Q",
        "outputId": "c149aa92-4316-4466-81cb-2faa42a529b6"
      },
      "execution_count": null,
      "outputs": [
        {
          "output_type": "stream",
          "name": "stdout",
          "text": [
            "Train\n",
            "\tinputs.shape: (32, 20000)\n",
            "\tinputs.dtype: <dtype: 'float32'>\n",
            "\ttargets.shape: (32,)\n",
            "\ttargets.dtype: <dtype: 'int32'>\n",
            "\tinputs[0]: tf.Tensor([1. 1. 1. ... 0. 0. 0.], shape=(20000,), dtype=float32)\n",
            "\ttargets[0]: tf.Tensor(0, shape=(), dtype=int32)\n",
            "Val\n",
            "\tinputs.shape: (32, 20000)\n",
            "\tinputs.dtype: <dtype: 'float32'>\n",
            "\ttargets.shape: (32,)\n",
            "\ttargets.dtype: <dtype: 'int32'>\n",
            "\tinputs[0]: tf.Tensor([1. 1. 1. ... 0. 0. 0.], shape=(20000,), dtype=float32)\n",
            "\ttargets[0]: tf.Tensor(1, shape=(), dtype=int32)\n",
            "Test\n",
            "\tinputs.shape: (32, 20000)\n",
            "\tinputs.dtype: <dtype: 'float32'>\n",
            "\ttargets.shape: (32,)\n",
            "\ttargets.dtype: <dtype: 'int32'>\n",
            "\tinputs[0]: tf.Tensor([1. 1. 0. ... 0. 0. 0.], shape=(20000,), dtype=float32)\n",
            "\ttargets[0]: tf.Tensor(1, shape=(), dtype=int32)\n"
          ]
        }
      ]
    },
    {
      "cell_type": "code",
      "source": [
        "model3 = build_model(20000, 16)\n",
        "model3.summary()"
      ],
      "metadata": {
        "colab": {
          "base_uri": "https://localhost:8080/"
        },
        "id": "0jnNwPqrd20J",
        "outputId": "17e1bdcb-fafe-4c27-9245-205e191fd5be"
      },
      "execution_count": null,
      "outputs": [
        {
          "output_type": "stream",
          "name": "stdout",
          "text": [
            "Model: \"Bag_of_Words_Model\"\n",
            "_________________________________________________________________\n",
            " Layer (type)                Output Shape              Param #   \n",
            "=================================================================\n",
            " Input_layer (InputLayer)    [(None, 20000)]           0         \n",
            "                                                                 \n",
            " Hidden_layer (Dense)        (None, 16)                320016    \n",
            "                                                                 \n",
            " dropout_5 (Dropout)         (None, 16)                0         \n",
            "                                                                 \n",
            " Output_layer (Dense)        (None, 1)                 17        \n",
            "                                                                 \n",
            "=================================================================\n",
            "Total params: 320033 (1.22 MB)\n",
            "Trainable params: 320033 (1.22 MB)\n",
            "Non-trainable params: 0 (0.00 Byte)\n",
            "_________________________________________________________________\n"
          ]
        }
      ]
    },
    {
      "cell_type": "code",
      "source": [
        "callbacks = [\n",
        " ModelCheckpoint(\"binary_3gram.keras\",\n",
        "                 save_best_only=True)\n",
        "]\n",
        "\n",
        "epochs=15"
      ],
      "metadata": {
        "id": "c8WyCq2Sd7Dn"
      },
      "execution_count": null,
      "outputs": []
    },
    {
      "cell_type": "code",
      "source": [
        "model3.fit(binary_3gram_train_ds.cache(),\n",
        "validation_data=binary_3gram_val_ds.cache(),\n",
        " epochs=epochs,\n",
        " callbacks=callbacks)"
      ],
      "metadata": {
        "colab": {
          "base_uri": "https://localhost:8080/"
        },
        "id": "pBGDkKGAeB5C",
        "outputId": "1ce475b3-219e-4b7d-bc9d-bc62fde7909d"
      },
      "execution_count": null,
      "outputs": [
        {
          "output_type": "stream",
          "name": "stdout",
          "text": [
            "Epoch 1/15\n",
            "625/625 [==============================] - 12s 19ms/step - loss: 0.3658 - accuracy: 0.8493 - val_loss: 0.2582 - val_accuracy: 0.8966\n",
            "Epoch 2/15\n",
            "625/625 [==============================] - 4s 6ms/step - loss: 0.1934 - accuracy: 0.9275 - val_loss: 0.2639 - val_accuracy: 0.8933\n",
            "Epoch 3/15\n",
            "625/625 [==============================] - 5s 8ms/step - loss: 0.1328 - accuracy: 0.9521 - val_loss: 0.2822 - val_accuracy: 0.8942\n",
            "Epoch 4/15\n",
            "625/625 [==============================] - 4s 6ms/step - loss: 0.0969 - accuracy: 0.9643 - val_loss: 0.3062 - val_accuracy: 0.8936\n",
            "Epoch 5/15\n",
            "625/625 [==============================] - 4s 6ms/step - loss: 0.0758 - accuracy: 0.9728 - val_loss: 0.3471 - val_accuracy: 0.8899\n",
            "Epoch 6/15\n",
            "625/625 [==============================] - 5s 7ms/step - loss: 0.0640 - accuracy: 0.9755 - val_loss: 0.3788 - val_accuracy: 0.8901\n",
            "Epoch 7/15\n",
            "625/625 [==============================] - 4s 6ms/step - loss: 0.0571 - accuracy: 0.9774 - val_loss: 0.3987 - val_accuracy: 0.8899\n",
            "Epoch 8/15\n",
            "625/625 [==============================] - 4s 6ms/step - loss: 0.0446 - accuracy: 0.9821 - val_loss: 0.4353 - val_accuracy: 0.8878\n",
            "Epoch 9/15\n",
            "625/625 [==============================] - 5s 8ms/step - loss: 0.0468 - accuracy: 0.9807 - val_loss: 0.4409 - val_accuracy: 0.8888\n",
            "Epoch 10/15\n",
            "625/625 [==============================] - 4s 6ms/step - loss: 0.0410 - accuracy: 0.9821 - val_loss: 0.4892 - val_accuracy: 0.8876\n",
            "Epoch 11/15\n",
            "625/625 [==============================] - 4s 6ms/step - loss: 0.0370 - accuracy: 0.9826 - val_loss: 0.5042 - val_accuracy: 0.8870\n",
            "Epoch 12/15\n",
            "625/625 [==============================] - 5s 8ms/step - loss: 0.0350 - accuracy: 0.9847 - val_loss: 0.5402 - val_accuracy: 0.8875\n",
            "Epoch 13/15\n",
            "625/625 [==============================] - 4s 6ms/step - loss: 0.0335 - accuracy: 0.9843 - val_loss: 0.6200 - val_accuracy: 0.8842\n",
            "Epoch 14/15\n",
            "625/625 [==============================] - 4s 6ms/step - loss: 0.0314 - accuracy: 0.9852 - val_loss: 0.5836 - val_accuracy: 0.8866\n",
            "Epoch 15/15\n",
            "625/625 [==============================] - 5s 8ms/step - loss: 0.0322 - accuracy: 0.9857 - val_loss: 0.6257 - val_accuracy: 0.8870\n"
          ]
        },
        {
          "output_type": "execute_result",
          "data": {
            "text/plain": [
              "<keras.src.callbacks.History at 0x7a6892504ee0>"
            ]
          },
          "metadata": {},
          "execution_count": 47
        }
      ]
    },
    {
      "cell_type": "code",
      "source": [
        "model3 = load_model(\"binary_3gram.keras\")\n",
        "print(f\"Test accuracy: {model3.evaluate(binary_3gram_test_ds)[1]:.3f}\")"
      ],
      "metadata": {
        "colab": {
          "base_uri": "https://localhost:8080/"
        },
        "id": "kvSX0t2GeHFD",
        "outputId": "2de9d57c-d722-45d6-d984-5e8ffa5ff76e"
      },
      "execution_count": null,
      "outputs": [
        {
          "output_type": "stream",
          "name": "stdout",
          "text": [
            "782/782 [==============================] - 7s 8ms/step - loss: 0.2582 - accuracy: 0.8966\n",
            "Test accuracy: 0.897\n"
          ]
        }
      ]
    },
    {
      "cell_type": "markdown",
      "source": [
        "The trigram model has an accuracy of 89.7% on the test data, which is better than the bigram model's accuracy of 89.5%.\n",
        "\n",
        "We will employ the bigram model in conjunction with term frequency-inverse document frequency (TF-IDF) to evaluate performance. TF-IDF assigns weight to a term by considering its \"term frequency\" within the current document, divided by its \"inverse document frequency,\" which gauges how frequently the term occurs across the dataset."
      ],
      "metadata": {
        "id": "QfErAncufDAt"
      }
    },
    {
      "cell_type": "markdown",
      "source": [
        "# BiGram Model with TF-IDF\n",
        "\n",
        "---\n",
        "\n",
        "In this section, a BiGram model with TF-IDF (Term Frequency-Inverse Document Frequency) representation is implemented for text classification using TensorFlow's Keras API.\n",
        "\n",
        "The TextVectorization layer is utilized to preprocess and vectorize the text data. The ngrams parameter is set to 2, indicating bigrams (pairs of consecutive words), and the output_mode is set to 'tf_idf', which computes the TF-IDF representation of each token.\n",
        "\n",
        "The vocabulary of all bigram tokens in the dataset is built and indexed using the adapt method of the text_vectorization layer. Subsequently, the datasets are preprocessed and vectorized using this layer.\n",
        "\n",
        "Training, validation, and testing datasets are prepared by mapping the text data to their corresponding TF-IDF representations.\n",
        "\n",
        "A neural network model is built using the build_model function, with 20,000 max tokens and 16 hidden dimensions. The model is then compiled and trained using the binary crossentropy loss function and Adam optimizer. Model checkpoints are saved to ensure the best performing model is retained.\n",
        "\n",
        "After training, the model is evaluated on the test dataset, and the test accuracy is printed.\n",
        "\n",
        "This BiGram model with TF-IDF representation leverages the frequency of bigram tokens in each document and across the entire corpus to capture the importance of each token, potentially improving the model's performance compared to traditional bag-of-words approaches."
      ],
      "metadata": {
        "id": "uQO9s9Qk7hpl"
      }
    },
    {
      "cell_type": "code",
      "source": [
        "ngrams=2\n",
        "\n",
        "text_vectorization = TextVectorization(\n",
        "    max_tokens=max_tokens,\n",
        "    ngrams=ngrams,\n",
        "    output_mode='tf_idf'\n",
        ")\n",
        "\n",
        "# Build the vocabulary of all bigram tokens in the dataset and index it.\n",
        "text_vectorization.adapt(text_only_ds)\n",
        "\n",
        "# Preprocess and vectorize the datasets.\n",
        "tfidf_2gram_train_ds = train_ds.map(lambda x, y: (text_vectorization(x), y))\n",
        "\n",
        "tfidf_2gram_val_ds = test_ds.map(lambda x, y: (text_vectorization(x), y))\n",
        "\n",
        "tfidf_2gram_test_ds = test_ds.map(lambda x, y: (text_vectorization(x), y))"
      ],
      "metadata": {
        "id": "GxtATZ2i7qJ4"
      },
      "execution_count": null,
      "outputs": []
    },
    {
      "cell_type": "code",
      "source": [
        "get_info_from_ds(tfidf_2gram_train_ds, 'Train')\n",
        "get_info_from_ds(tfidf_2gram_val_ds, 'Val')\n",
        "get_info_from_ds(tfidf_2gram_test_ds, 'Test')"
      ],
      "metadata": {
        "colab": {
          "base_uri": "https://localhost:8080/"
        },
        "id": "8pANhmdD71Ve",
        "outputId": "932a5497-9dde-4d17-e481-928fc75a0dbf"
      },
      "execution_count": null,
      "outputs": [
        {
          "output_type": "stream",
          "name": "stdout",
          "text": [
            "Train\n",
            "\tinputs.shape: (32, 20000)\n",
            "\tinputs.dtype: <dtype: 'float32'>\n",
            "\ttargets.shape: (32,)\n",
            "\ttargets.dtype: <dtype: 'int32'>\n",
            "\tinputs[0]: tf.Tensor(\n",
            "[1156.7074       4.1851544    5.6891665 ...    0.           0.\n",
            "    0.       ], shape=(20000,), dtype=float32)\n",
            "\ttargets[0]: tf.Tensor(1, shape=(), dtype=int32)\n",
            "Val\n",
            "\tinputs.shape: (32, 20000)\n",
            "\tinputs.dtype: <dtype: 'float32'>\n",
            "\ttargets.shape: (32,)\n",
            "\ttargets.dtype: <dtype: 'int32'>\n",
            "\tinputs[0]: tf.Tensor(\n",
            "[319.8269      2.0925772   1.4222916 ...   0.          0.\n",
            "   0.       ], shape=(20000,), dtype=float32)\n",
            "\ttargets[0]: tf.Tensor(0, shape=(), dtype=int32)\n",
            "Test\n",
            "\tinputs.shape: (32, 20000)\n",
            "\tinputs.dtype: <dtype: 'float32'>\n",
            "\ttargets.shape: (32,)\n",
            "\ttargets.dtype: <dtype: 'int32'>\n",
            "\tinputs[0]: tf.Tensor(\n",
            "[490.40128     2.0925772   0.7111458 ...   0.          0.\n",
            "   0.       ], shape=(20000,), dtype=float32)\n",
            "\ttargets[0]: tf.Tensor(0, shape=(), dtype=int32)\n"
          ]
        }
      ]
    },
    {
      "cell_type": "code",
      "source": [
        "model4 = build_model(20000, 16)\n",
        "model4.summary()"
      ],
      "metadata": {
        "colab": {
          "base_uri": "https://localhost:8080/"
        },
        "id": "fN183tAZ799U",
        "outputId": "e085b616-4d2e-43db-8a57-cb3d56a1c896"
      },
      "execution_count": null,
      "outputs": [
        {
          "output_type": "stream",
          "name": "stdout",
          "text": [
            "Model: \"Bag_of_Words_Model\"\n",
            "_________________________________________________________________\n",
            " Layer (type)                Output Shape              Param #   \n",
            "=================================================================\n",
            " Input_layer (InputLayer)    [(None, 20000)]           0         \n",
            "                                                                 \n",
            " Hidden_layer (Dense)        (None, 16)                320016    \n",
            "                                                                 \n",
            " dropout_1 (Dropout)         (None, 16)                0         \n",
            "                                                                 \n",
            " Output_layer (Dense)        (None, 1)                 17        \n",
            "                                                                 \n",
            "=================================================================\n",
            "Total params: 320033 (1.22 MB)\n",
            "Trainable params: 320033 (1.22 MB)\n",
            "Non-trainable params: 0 (0.00 Byte)\n",
            "_________________________________________________________________\n"
          ]
        }
      ]
    },
    {
      "cell_type": "code",
      "source": [
        "callbacks = [\n",
        " ModelCheckpoint(\"tfidf_2gram.keras\",\n",
        "                 save_best_only=True)\n",
        "]\n",
        "\n",
        "epochs=15"
      ],
      "metadata": {
        "id": "7dKzMDe-8Clq"
      },
      "execution_count": null,
      "outputs": []
    },
    {
      "cell_type": "code",
      "source": [
        "model4.fit(tfidf_2gram_train_ds.cache(),\n",
        "validation_data=tfidf_2gram_val_ds.cache(),\n",
        " epochs=epochs,\n",
        " callbacks=callbacks)"
      ],
      "metadata": {
        "colab": {
          "base_uri": "https://localhost:8080/"
        },
        "id": "qO6nU1eq8M2I",
        "outputId": "dfe91dc4-e00b-4d85-f51e-38e5206026b8"
      },
      "execution_count": null,
      "outputs": [
        {
          "output_type": "stream",
          "name": "stdout",
          "text": [
            "Epoch 1/15\n",
            "625/625 [==============================] - 32s 49ms/step - loss: 0.5537 - accuracy: 0.7340 - val_loss: 0.2998 - val_accuracy: 0.8896\n",
            "Epoch 2/15\n",
            "625/625 [==============================] - 6s 10ms/step - loss: 0.3434 - accuracy: 0.8528 - val_loss: 0.2778 - val_accuracy: 0.8922\n",
            "Epoch 3/15\n",
            "625/625 [==============================] - 6s 10ms/step - loss: 0.2765 - accuracy: 0.8795 - val_loss: 0.2742 - val_accuracy: 0.8869\n",
            "Epoch 4/15\n",
            "625/625 [==============================] - 6s 10ms/step - loss: 0.2317 - accuracy: 0.8967 - val_loss: 0.2914 - val_accuracy: 0.8842\n",
            "Epoch 5/15\n",
            "625/625 [==============================] - 6s 10ms/step - loss: 0.1986 - accuracy: 0.9093 - val_loss: 0.3012 - val_accuracy: 0.8897\n",
            "Epoch 6/15\n",
            "625/625 [==============================] - 6s 9ms/step - loss: 0.1794 - accuracy: 0.9146 - val_loss: 0.3150 - val_accuracy: 0.8862\n",
            "Epoch 7/15\n",
            "625/625 [==============================] - 7s 12ms/step - loss: 0.1624 - accuracy: 0.9212 - val_loss: 0.3641 - val_accuracy: 0.8908\n",
            "Epoch 8/15\n",
            "625/625 [==============================] - 5s 8ms/step - loss: 0.1469 - accuracy: 0.9276 - val_loss: 0.3571 - val_accuracy: 0.8879\n",
            "Epoch 9/15\n",
            "625/625 [==============================] - 6s 10ms/step - loss: 0.1446 - accuracy: 0.9246 - val_loss: 0.4192 - val_accuracy: 0.8880\n",
            "Epoch 10/15\n",
            "625/625 [==============================] - 5s 8ms/step - loss: 0.1352 - accuracy: 0.9288 - val_loss: 0.4071 - val_accuracy: 0.8886\n",
            "Epoch 11/15\n",
            "625/625 [==============================] - 6s 10ms/step - loss: 0.1261 - accuracy: 0.9323 - val_loss: 0.4337 - val_accuracy: 0.8864\n",
            "Epoch 12/15\n",
            "625/625 [==============================] - 6s 10ms/step - loss: 0.1236 - accuracy: 0.9328 - val_loss: 0.4372 - val_accuracy: 0.8886\n",
            "Epoch 13/15\n",
            "625/625 [==============================] - 6s 10ms/step - loss: 0.1151 - accuracy: 0.9395 - val_loss: 0.4632 - val_accuracy: 0.8883\n",
            "Epoch 14/15\n",
            "625/625 [==============================] - 6s 10ms/step - loss: 0.1131 - accuracy: 0.9388 - val_loss: 0.4594 - val_accuracy: 0.8882\n",
            "Epoch 15/15\n",
            "625/625 [==============================] - 6s 9ms/step - loss: 0.1114 - accuracy: 0.9405 - val_loss: 0.5025 - val_accuracy: 0.8864\n"
          ]
        },
        {
          "output_type": "execute_result",
          "data": {
            "text/plain": [
              "<keras.src.callbacks.History at 0x7a5381679210>"
            ]
          },
          "metadata": {},
          "execution_count": 121
        }
      ]
    },
    {
      "cell_type": "code",
      "source": [
        "model4 = load_model(\"tfidf_2gram.keras\")\n",
        "print(f\"Test accuracy: {model4.evaluate(tfidf_2gram_test_ds)[1]:.3f}\")"
      ],
      "metadata": {
        "colab": {
          "base_uri": "https://localhost:8080/"
        },
        "id": "wNZfq_f-8cOG",
        "outputId": "271cbcd2-69be-463f-ed8d-4a6766249fec"
      },
      "execution_count": null,
      "outputs": [
        {
          "output_type": "stream",
          "name": "stdout",
          "text": [
            "782/782 [==============================] - 9s 11ms/step - loss: 0.2742 - accuracy: 0.8869\n",
            "Test accuracy: 0.887\n"
          ]
        }
      ]
    },
    {
      "cell_type": "markdown",
      "source": [
        "This model at 88.7% accuracy performed slightly worse than all previous models, with the exception of the unigram model."
      ],
      "metadata": {
        "id": "nPnt5Mw8AM2f"
      }
    },
    {
      "cell_type": "markdown",
      "source": [
        "# Sequence-to-Sequence Utility Model\n",
        "\n",
        "---\n",
        "In this section, a utility model for Sequence-to-Sequence tasks is defined using TensorFlow's Keras API. The model architecture includes an input layer that accepts sequences of variable length with integer values representing tokens. An embedding layer (one_hot) converts the integer-encoded tokens into one-hot encoded vectors with a depth of max_tokens. A Bidirectional LSTM layer with 32 units processes the embedded sequences bidirectionally to capture both past and future contexts. A dropout layer with a dropout rate of 0.5 prevents overfitting. Finally, an output layer with a single neuron and sigmoid activation function is added for binary classification. The model is compiled with the Adam optimizer and binary crossentropy loss function, suitable for binary classification tasks. Accuracy is chosen as the evaluation metric. Summarizing the model architecture provides insights into the number of parameters, layer types, and connections within the model, facilitating further analysis and adjustments if needed.\n"
      ],
      "metadata": {
        "id": "bno4Frlh6N8a"
      }
    },
    {
      "cell_type": "code",
      "source": [
        "from tensorflow import one_hot\n",
        "from tensorflow.keras.layers import LSTM, Bidirectional\n",
        "\n",
        "inputs= Input(shape=(None,), dtype='int64')\n",
        "\n",
        "embedded = one_hot(inputs, depth=max_tokens)\n",
        "\n",
        "x = Bidirectional(LSTM(32))(embedded)\n",
        "x = Dropout(0.5)(x)\n",
        "\n",
        "outputs = Dense(1, activation='sigmoid')(x)\n",
        "\n",
        "model1 = Model(inputs, outputs)\n",
        "\n",
        "model1.compile(optimizer='adam',\n",
        "              loss='binary_crossentropy',\n",
        "              metrics=['accuracy'])\n",
        "\n",
        "model1.summary()"
      ],
      "metadata": {
        "colab": {
          "base_uri": "https://localhost:8080/"
        },
        "id": "1q_MrY087B0X",
        "outputId": "9bc99de2-cd8b-47c6-cc87-84087df1c84d"
      },
      "execution_count": null,
      "outputs": [
        {
          "output_type": "stream",
          "name": "stdout",
          "text": [
            "Model: \"model\"\n",
            "_________________________________________________________________\n",
            " Layer (type)                Output Shape              Param #   \n",
            "=================================================================\n",
            " input_1 (InputLayer)        [(None, None)]            0         \n",
            "                                                                 \n",
            " tf.one_hot (TFOpLambda)     (None, None, 20000)       0         \n",
            "                                                                 \n",
            " bidirectional (Bidirection  (None, 64)                5128448   \n",
            " al)                                                             \n",
            "                                                                 \n",
            " dropout (Dropout)           (None, 64)                0         \n",
            "                                                                 \n",
            " dense (Dense)               (None, 1)                 65        \n",
            "                                                                 \n",
            "=================================================================\n",
            "Total params: 5128513 (19.56 MB)\n",
            "Trainable params: 5128513 (19.56 MB)\n",
            "Non-trainable params: 0 (0.00 Byte)\n",
            "_________________________________________________________________\n"
          ]
        }
      ]
    },
    {
      "cell_type": "markdown",
      "source": [
        "# Model with One-Hot Encoded Vectors\n",
        "\n",
        "---\n",
        "\n",
        "In this section, a model utilizing one-hot encoded vectors is implemented for sequence-to-sequence tasks using TensorFlow's Keras API.\n",
        "\n",
        "Callbacks for model checkpointing are defined to save the best performing model during training.\n",
        "\n",
        "The TextVectorization layer is used to preprocess and vectorize the text data. The output_mode is set to 'int' to output integer-encoded sequences, and the output_sequence_length is set to max_length to pad or truncate sequences to a fixed length.\n",
        "\n",
        "The vocabulary is built and indexed using the adapt method of the text_vectorization layer. Subsequently, the datasets are preprocessed and vectorized using this layer.\n",
        "\n",
        "Training, validation, and testing datasets are prepared by mapping the text data to their corresponding integer-encoded sequences.\n",
        "\n",
        "The model is then trained using the fit method. Due to the computational complexity of training with one-hot encoded sequences and Bidirectional LSTM, the model is trained for only 5 epochs.\n",
        "\n",
        "After training, the best performing model is loaded, and its performance is evaluated on the test dataset, with the test accuracy printed.\n",
        "\n",
        "It should be noted that training with one-hot encoded sequences can be computationally intensive compared to other encoding methods."
      ],
      "metadata": {
        "id": "RJqr8pE9YuEQ"
      }
    },
    {
      "cell_type": "code",
      "source": [
        "callbacks = [\n",
        " ModelCheckpoint(\"one_hot_bidir_lstm.keras\",\n",
        "                 save_best_only=True)\n",
        "]\n",
        "\n",
        "epochs=15"
      ],
      "metadata": {
        "id": "HruW-jkm8SP4"
      },
      "execution_count": null,
      "outputs": []
    },
    {
      "cell_type": "code",
      "source": [
        "text_vectorization = TextVectorization(\n",
        "    max_tokens=max_tokens,\n",
        "    output_mode='int',\n",
        "    output_sequence_length=max_length\n",
        ")\n",
        "\n",
        "# Build the vocabulary and index it.\n",
        "text_vectorization.adapt(text_only_ds)\n",
        "\n",
        "# Preprocess and vectorize the datasets.\n",
        "int_train_ds = train_ds.map(lambda x, y: (text_vectorization(x), y))\n",
        "\n",
        "int_val_ds = test_ds.map(lambda x, y: (text_vectorization(x), y))\n",
        "\n",
        "int_test_ds = test_ds.map(lambda x, y: (text_vectorization(x), y))"
      ],
      "metadata": {
        "id": "bEsKksDT6UJx"
      },
      "execution_count": null,
      "outputs": []
    },
    {
      "cell_type": "code",
      "source": [
        "get_info_from_ds(int_train_ds, 'Train')\n",
        "get_info_from_ds(int_val_ds, 'Val')\n",
        "get_info_from_ds(int_test_ds, 'Test')"
      ],
      "metadata": {
        "colab": {
          "base_uri": "https://localhost:8080/"
        },
        "id": "OKCRc9P764_l",
        "outputId": "04908a43-ba93-463b-af06-60c5f7222099"
      },
      "execution_count": null,
      "outputs": [
        {
          "output_type": "stream",
          "name": "stdout",
          "text": [
            "Train\n",
            "\tinputs.shape: (32, 600)\n",
            "\tinputs.dtype: <dtype: 'int64'>\n",
            "\ttargets.shape: (32,)\n",
            "\ttargets.dtype: <dtype: 'int32'>\n",
            "\tinputs[0]: tf.Tensor(\n",
            "[   10   209    11     8     4  4806   105   496   157     2  4284   632\n",
            "     3    10   222   130    10    14   544   692     3    10    26     6\n",
            "   266     2  2101     5   129   701    21     2  2190     6   178  3175\n",
            "  3840     8     2   476   216  5301    21    49    23   103    43  3840\n",
            "    55    14   343  2213  2991    41     7    38   231     8   126    40\n",
            "   419    12    55   140    28     2   396   507    16     2  4593 11080\n",
            "    16   242   512    10   103    72    66   411     6    28  2182     6\n",
            "    40   297    55     7   330  5838     2    81    83  1588    85    34\n",
            "   606   290    19   425    90   709    57     2   294    46     5    32\n",
            "     2    83  1588     8    11    18   439   130     2    29    36   114\n",
            "     2   113   290    14  8930  4869  4753     7  1162     8     2   436\n",
            "     3    61   713   770     2    53  2808    13   513   886    15    74\n",
            "     9   255   127    52    15   100   877   409    71   357   106     8\n",
            "   109     0     0     0     0     0     0     0     0     0     0     0\n",
            "     0     0     0     0     0     0     0     0     0     0     0     0\n",
            "     0     0     0     0     0     0     0     0     0     0     0     0\n",
            "     0     0     0     0     0     0     0     0     0     0     0     0\n",
            "     0     0     0     0     0     0     0     0     0     0     0     0\n",
            "     0     0     0     0     0     0     0     0     0     0     0     0\n",
            "     0     0     0     0     0     0     0     0     0     0     0     0\n",
            "     0     0     0     0     0     0     0     0     0     0     0     0\n",
            "     0     0     0     0     0     0     0     0     0     0     0     0\n",
            "     0     0     0     0     0     0     0     0     0     0     0     0\n",
            "     0     0     0     0     0     0     0     0     0     0     0     0\n",
            "     0     0     0     0     0     0     0     0     0     0     0     0\n",
            "     0     0     0     0     0     0     0     0     0     0     0     0\n",
            "     0     0     0     0     0     0     0     0     0     0     0     0\n",
            "     0     0     0     0     0     0     0     0     0     0     0     0\n",
            "     0     0     0     0     0     0     0     0     0     0     0     0\n",
            "     0     0     0     0     0     0     0     0     0     0     0     0\n",
            "     0     0     0     0     0     0     0     0     0     0     0     0\n",
            "     0     0     0     0     0     0     0     0     0     0     0     0\n",
            "     0     0     0     0     0     0     0     0     0     0     0     0\n",
            "     0     0     0     0     0     0     0     0     0     0     0     0\n",
            "     0     0     0     0     0     0     0     0     0     0     0     0\n",
            "     0     0     0     0     0     0     0     0     0     0     0     0\n",
            "     0     0     0     0     0     0     0     0     0     0     0     0\n",
            "     0     0     0     0     0     0     0     0     0     0     0     0\n",
            "     0     0     0     0     0     0     0     0     0     0     0     0\n",
            "     0     0     0     0     0     0     0     0     0     0     0     0\n",
            "     0     0     0     0     0     0     0     0     0     0     0     0\n",
            "     0     0     0     0     0     0     0     0     0     0     0     0\n",
            "     0     0     0     0     0     0     0     0     0     0     0     0\n",
            "     0     0     0     0     0     0     0     0     0     0     0     0\n",
            "     0     0     0     0     0     0     0     0     0     0     0     0\n",
            "     0     0     0     0     0     0     0     0     0     0     0     0\n",
            "     0     0     0     0     0     0     0     0     0     0     0     0\n",
            "     0     0     0     0     0     0     0     0     0     0     0     0\n",
            "     0     0     0     0     0     0     0     0     0     0     0     0\n",
            "     0     0     0     0     0     0     0     0     0     0     0     0], shape=(600,), dtype=int64)\n",
            "\ttargets[0]: tf.Tensor(0, shape=(), dtype=int32)\n",
            "Val\n",
            "\tinputs.shape: (32, 600)\n",
            "\tinputs.dtype: <dtype: 'int64'>\n",
            "\ttargets.shape: (32,)\n",
            "\ttargets.dtype: <dtype: 'int32'>\n",
            "\tinputs[0]: tf.Tensor(\n",
            "[  439    39     6   374    33   654    10    59    22   138    67    11\n",
            "    18   174    45    35    66   723    46  4233    91     5  1119  2017\n",
            "     3     2  3924  2456    70  5804   120    11    18    14   382    10\n",
            "   175   194    11     9     4   357  1188   716    80    48    25    58\n",
            "  1514   393     2   112     7   408   382    11    18     7     4  5389\n",
            "   438    21     2   352     2    88  1712   499    45    23    63   177\n",
            "     6  1890   640    16  1489   230   861   139    39 17208    31   217\n",
            "     1  1472    47   124  1353   980   140     1     2  1777   809     9\n",
            "   142    22  3034    43     2  1111    10  1485     6    67     2   812\n",
            "   439    42    39     2  1489   230     5    56   120  6917    13    69\n",
            "    23   194    70    56    62   143  7650  4101  1906  2644     1     0\n",
            "     0     0     0     0     0     0     0     0     0     0     0     0\n",
            "     0     0     0     0     0     0     0     0     0     0     0     0\n",
            "     0     0     0     0     0     0     0     0     0     0     0     0\n",
            "     0     0     0     0     0     0     0     0     0     0     0     0\n",
            "     0     0     0     0     0     0     0     0     0     0     0     0\n",
            "     0     0     0     0     0     0     0     0     0     0     0     0\n",
            "     0     0     0     0     0     0     0     0     0     0     0     0\n",
            "     0     0     0     0     0     0     0     0     0     0     0     0\n",
            "     0     0     0     0     0     0     0     0     0     0     0     0\n",
            "     0     0     0     0     0     0     0     0     0     0     0     0\n",
            "     0     0     0     0     0     0     0     0     0     0     0     0\n",
            "     0     0     0     0     0     0     0     0     0     0     0     0\n",
            "     0     0     0     0     0     0     0     0     0     0     0     0\n",
            "     0     0     0     0     0     0     0     0     0     0     0     0\n",
            "     0     0     0     0     0     0     0     0     0     0     0     0\n",
            "     0     0     0     0     0     0     0     0     0     0     0     0\n",
            "     0     0     0     0     0     0     0     0     0     0     0     0\n",
            "     0     0     0     0     0     0     0     0     0     0     0     0\n",
            "     0     0     0     0     0     0     0     0     0     0     0     0\n",
            "     0     0     0     0     0     0     0     0     0     0     0     0\n",
            "     0     0     0     0     0     0     0     0     0     0     0     0\n",
            "     0     0     0     0     0     0     0     0     0     0     0     0\n",
            "     0     0     0     0     0     0     0     0     0     0     0     0\n",
            "     0     0     0     0     0     0     0     0     0     0     0     0\n",
            "     0     0     0     0     0     0     0     0     0     0     0     0\n",
            "     0     0     0     0     0     0     0     0     0     0     0     0\n",
            "     0     0     0     0     0     0     0     0     0     0     0     0\n",
            "     0     0     0     0     0     0     0     0     0     0     0     0\n",
            "     0     0     0     0     0     0     0     0     0     0     0     0\n",
            "     0     0     0     0     0     0     0     0     0     0     0     0\n",
            "     0     0     0     0     0     0     0     0     0     0     0     0\n",
            "     0     0     0     0     0     0     0     0     0     0     0     0\n",
            "     0     0     0     0     0     0     0     0     0     0     0     0\n",
            "     0     0     0     0     0     0     0     0     0     0     0     0\n",
            "     0     0     0     0     0     0     0     0     0     0     0     0\n",
            "     0     0     0     0     0     0     0     0     0     0     0     0\n",
            "     0     0     0     0     0     0     0     0     0     0     0     0\n",
            "     0     0     0     0     0     0     0     0     0     0     0     0\n",
            "     0     0     0     0     0     0     0     0     0     0     0     0], shape=(600,), dtype=int64)\n",
            "\ttargets[0]: tf.Tensor(0, shape=(), dtype=int32)\n",
            "Test\n",
            "\tinputs.shape: (32, 600)\n",
            "\tinputs.dtype: <dtype: 'int64'>\n",
            "\ttargets.shape: (32,)\n",
            "\ttargets.dtype: <dtype: 'int32'>\n",
            "\tinputs[0]: tf.Tensor(\n",
            "[   36     2  2188    68     2  1835   315     5   967  6538  1909     8\n",
            "    11    20     9   140    26    75  4741     1   954    32     2    96\n",
            "    31     2    53   217  2970   140    26    68    40  1104  2350    13\n",
            "    13    48     7    47 19707     8     2   186    12  1393     1   589\n",
            "     7   180    74   785  6879   547    16   176    86   183    10   232\n",
            "     3    72    85    77   349    33     2   195  2193   178  1052   944\n",
            "     1     3     1  1486    13    13    10  1395   616  5120    68     6\n",
            "    28   335     4   637  2951     2  4718  1812    23    13    13   446\n",
            "    10   103     8    11    29     2   353 15208    14   178     0     0\n",
            "     0     0     0     0     0     0     0     0     0     0     0     0\n",
            "     0     0     0     0     0     0     0     0     0     0     0     0\n",
            "     0     0     0     0     0     0     0     0     0     0     0     0\n",
            "     0     0     0     0     0     0     0     0     0     0     0     0\n",
            "     0     0     0     0     0     0     0     0     0     0     0     0\n",
            "     0     0     0     0     0     0     0     0     0     0     0     0\n",
            "     0     0     0     0     0     0     0     0     0     0     0     0\n",
            "     0     0     0     0     0     0     0     0     0     0     0     0\n",
            "     0     0     0     0     0     0     0     0     0     0     0     0\n",
            "     0     0     0     0     0     0     0     0     0     0     0     0\n",
            "     0     0     0     0     0     0     0     0     0     0     0     0\n",
            "     0     0     0     0     0     0     0     0     0     0     0     0\n",
            "     0     0     0     0     0     0     0     0     0     0     0     0\n",
            "     0     0     0     0     0     0     0     0     0     0     0     0\n",
            "     0     0     0     0     0     0     0     0     0     0     0     0\n",
            "     0     0     0     0     0     0     0     0     0     0     0     0\n",
            "     0     0     0     0     0     0     0     0     0     0     0     0\n",
            "     0     0     0     0     0     0     0     0     0     0     0     0\n",
            "     0     0     0     0     0     0     0     0     0     0     0     0\n",
            "     0     0     0     0     0     0     0     0     0     0     0     0\n",
            "     0     0     0     0     0     0     0     0     0     0     0     0\n",
            "     0     0     0     0     0     0     0     0     0     0     0     0\n",
            "     0     0     0     0     0     0     0     0     0     0     0     0\n",
            "     0     0     0     0     0     0     0     0     0     0     0     0\n",
            "     0     0     0     0     0     0     0     0     0     0     0     0\n",
            "     0     0     0     0     0     0     0     0     0     0     0     0\n",
            "     0     0     0     0     0     0     0     0     0     0     0     0\n",
            "     0     0     0     0     0     0     0     0     0     0     0     0\n",
            "     0     0     0     0     0     0     0     0     0     0     0     0\n",
            "     0     0     0     0     0     0     0     0     0     0     0     0\n",
            "     0     0     0     0     0     0     0     0     0     0     0     0\n",
            "     0     0     0     0     0     0     0     0     0     0     0     0\n",
            "     0     0     0     0     0     0     0     0     0     0     0     0\n",
            "     0     0     0     0     0     0     0     0     0     0     0     0\n",
            "     0     0     0     0     0     0     0     0     0     0     0     0\n",
            "     0     0     0     0     0     0     0     0     0     0     0     0\n",
            "     0     0     0     0     0     0     0     0     0     0     0     0\n",
            "     0     0     0     0     0     0     0     0     0     0     0     0\n",
            "     0     0     0     0     0     0     0     0     0     0     0     0\n",
            "     0     0     0     0     0     0     0     0     0     0     0     0\n",
            "     0     0     0     0     0     0     0     0     0     0     0     0], shape=(600,), dtype=int64)\n",
            "\ttargets[0]: tf.Tensor(0, shape=(), dtype=int32)\n"
          ]
        }
      ]
    },
    {
      "cell_type": "code",
      "source": [
        "model1.fit(int_train_ds,\n",
        "validation_data=int_val_ds,\n",
        " epochs=5, # We will onyl train for 5 epochs as training the data using one-hot encoded sequences and Bidirectional LSTM is extremely slow\n",
        " callbacks=callbacks)"
      ],
      "metadata": {
        "id": "5XLEdsZZ8OgL"
      },
      "execution_count": null,
      "outputs": []
    },
    {
      "cell_type": "code",
      "source": [
        "model1 = load_model(\"one_hot_bidir_lstm.keras\")\n",
        "print(f\"Test accuracy: {model1.evaluate(int_test_ds)[1]:.3f}\")"
      ],
      "metadata": {
        "colab": {
          "base_uri": "https://localhost:8080/"
        },
        "id": "t0vdDn7A8r9C",
        "outputId": "bb6dcf35-8057-4da4-847a-7a39b79fdaec"
      },
      "execution_count": null,
      "outputs": [
        {
          "output_type": "stream",
          "name": "stdout",
          "text": [
            "782/782 [==============================] - 93s 117ms/step - loss: 0.3440 - accuracy: 0.8571\n",
            "Test accuracy: 0.857\n"
          ]
        }
      ]
    },
    {
      "cell_type": "markdown",
      "source": [
        "The model that uses one-hot encoded vectors is extremely slow and has the lowest test accuracy among all the bag-of-words models. For the next model, we will use word embeddings instead of one-hot encoded vectors."
      ],
      "metadata": {
        "id": "WGB6ETWXEB-z"
      }
    },
    {
      "cell_type": "markdown",
      "source": [
        "# Model with Word Embeddings\n",
        "\n",
        "---\n",
        "In this section, a model is implemented using word embeddings for sequence-to-sequence tasks. The model architecture includes an input layer that accepts sequences of variable length with integer values representing tokens. An embedding layer is added, which maps each integer token to a dense vector representation of dimensionality 256. The mask_zero=True parameter instructs the layer to ignore padding tokens, ensuring that the recurrent layers skip these padding iterations during processing.\n",
        "\n",
        "Bidirectional LSTM layer with 32 units is added to process the embedded sequences bidirectionally, capturing both past and future contexts. A dropout layer with a dropout rate of 0.5 is included to prevent overfitting. Finally, an output layer with a single neuron and sigmoid activation function is added for binary classification.\n",
        "\n",
        "The model is compiled with the Adam optimizer and binary crossentropy loss function, and accuracy is chosen as the evaluation metric.\n",
        "\n",
        "Callbacks are defined for model checkpointing to save the best performing model during training.\n",
        "\n",
        "The model is then trained using the fit method with the training and validation datasets. After training, the best performing model is loaded, and its performance is evaluated on the test dataset, with the test accuracy printed\n"
      ],
      "metadata": {
        "id": "WBjjC8gMY43N"
      }
    },
    {
      "cell_type": "code",
      "source": [
        "from tensorflow.keras.layers import Embedding\n",
        "\n",
        "inputs= Input(shape=(None,), dtype='int64')\n",
        "\n",
        "embedded = Embedding(input_dim=max_tokens, output_dim=256, mask_zero=True)(inputs) # mask_zero=True instructs the layer to ignore padding tokens (encoded as zeros),\n",
        "                                                                                   # ensuring that the RNN skips these padding iterations during processing.\n",
        "\n",
        "x = Bidirectional(LSTM(32))(embedded)\n",
        "x = Dropout(0.5)(x)\n",
        "\n",
        "outputs = Dense(1, activation='sigmoid')(x)\n",
        "\n",
        "model2 = Model(inputs, outputs, name='Model_using_Embeddings')\n",
        "\n",
        "model2.compile(optimizer='adam',\n",
        "              loss='binary_crossentropy',\n",
        "              metrics=['accuracy'])\n",
        "\n",
        "model2.summary()\n",
        "\n",
        "callbacks = [\n",
        " ModelCheckpoint(\"embeddings_bidir_gru.keras\",\n",
        " save_best_only=True)\n",
        "]"
      ],
      "metadata": {
        "colab": {
          "base_uri": "https://localhost:8080/"
        },
        "id": "l-faVWmKaYLv",
        "outputId": "0ffe8979-59f9-4f30-bc9a-31815ce93116"
      },
      "execution_count": null,
      "outputs": [
        {
          "output_type": "stream",
          "name": "stdout",
          "text": [
            "Model: \"Model_using_Embeddings\"\n",
            "_________________________________________________________________\n",
            " Layer (type)                Output Shape              Param #   \n",
            "=================================================================\n",
            " input_2 (InputLayer)        [(None, None)]            0         \n",
            "                                                                 \n",
            " embedding (Embedding)       (None, None, 256)         5120000   \n",
            "                                                                 \n",
            " bidirectional_1 (Bidirecti  (None, 64)                73984     \n",
            " onal)                                                           \n",
            "                                                                 \n",
            " dropout_1 (Dropout)         (None, 64)                0         \n",
            "                                                                 \n",
            " dense_1 (Dense)             (None, 1)                 65        \n",
            "                                                                 \n",
            "=================================================================\n",
            "Total params: 5194049 (19.81 MB)\n",
            "Trainable params: 5194049 (19.81 MB)\n",
            "Non-trainable params: 0 (0.00 Byte)\n",
            "_________________________________________________________________\n"
          ]
        }
      ]
    },
    {
      "cell_type": "code",
      "source": [
        "model2.fit(int_train_ds,\n",
        "validation_data=int_val_ds,\n",
        " epochs=epochs,\n",
        " callbacks=callbacks)"
      ],
      "metadata": {
        "colab": {
          "base_uri": "https://localhost:8080/"
        },
        "id": "48Eu_Mlcbn2k",
        "outputId": "35df4060-d343-4863-98ec-e7e2aba9f31f"
      },
      "execution_count": null,
      "outputs": [
        {
          "output_type": "stream",
          "name": "stdout",
          "text": [
            "Epoch 1/15\n",
            "625/625 [==============================] - 101s 143ms/step - loss: 0.3901 - accuracy: 0.8223 - val_loss: 0.3092 - val_accuracy: 0.8709\n",
            "Epoch 2/15\n",
            "625/625 [==============================] - 57s 92ms/step - loss: 0.1724 - accuracy: 0.9368 - val_loss: 0.3177 - val_accuracy: 0.8680\n",
            "Epoch 3/15\n",
            "625/625 [==============================] - 56s 90ms/step - loss: 0.0820 - accuracy: 0.9715 - val_loss: 0.4203 - val_accuracy: 0.8656\n",
            "Epoch 4/15\n",
            "625/625 [==============================] - 46s 73ms/step - loss: 0.0559 - accuracy: 0.9801 - val_loss: 0.5175 - val_accuracy: 0.8569\n",
            "Epoch 5/15\n",
            "625/625 [==============================] - 42s 68ms/step - loss: 0.0290 - accuracy: 0.9913 - val_loss: 0.5403 - val_accuracy: 0.8516\n",
            "Epoch 6/15\n",
            "625/625 [==============================] - 41s 66ms/step - loss: 0.0250 - accuracy: 0.9920 - val_loss: 0.6241 - val_accuracy: 0.8589\n",
            "Epoch 7/15\n",
            "625/625 [==============================] - 44s 70ms/step - loss: 0.0381 - accuracy: 0.9868 - val_loss: 0.6399 - val_accuracy: 0.8528\n",
            "Epoch 8/15\n",
            "625/625 [==============================] - 40s 65ms/step - loss: 0.0145 - accuracy: 0.9957 - val_loss: 0.6708 - val_accuracy: 0.8539\n",
            "Epoch 9/15\n",
            "625/625 [==============================] - 41s 66ms/step - loss: 0.0074 - accuracy: 0.9980 - val_loss: 0.7428 - val_accuracy: 0.8569\n",
            "Epoch 10/15\n",
            "625/625 [==============================] - 41s 66ms/step - loss: 0.0051 - accuracy: 0.9990 - val_loss: 0.7836 - val_accuracy: 0.8524\n",
            "Epoch 11/15\n",
            "625/625 [==============================] - 49s 78ms/step - loss: 0.0355 - accuracy: 0.9884 - val_loss: 0.7006 - val_accuracy: 0.8411\n",
            "Epoch 12/15\n",
            "625/625 [==============================] - 41s 65ms/step - loss: 0.0292 - accuracy: 0.9911 - val_loss: 0.6602 - val_accuracy: 0.8415\n",
            "Epoch 13/15\n",
            "625/625 [==============================] - 42s 68ms/step - loss: 0.0074 - accuracy: 0.9980 - val_loss: 0.7723 - val_accuracy: 0.8435\n",
            "Epoch 14/15\n",
            "625/625 [==============================] - 45s 72ms/step - loss: 0.0042 - accuracy: 0.9989 - val_loss: 0.8229 - val_accuracy: 0.8518\n",
            "Epoch 15/15\n",
            "625/625 [==============================] - 44s 70ms/step - loss: 0.0024 - accuracy: 0.9996 - val_loss: 0.8665 - val_accuracy: 0.8536\n"
          ]
        },
        {
          "output_type": "execute_result",
          "data": {
            "text/plain": [
              "<keras.src.callbacks.History at 0x7f6a08fa8520>"
            ]
          },
          "metadata": {},
          "execution_count": 29
        }
      ]
    },
    {
      "cell_type": "code",
      "source": [
        "model2 = load_model(\"embeddings_bidir_gru.keras\")\n",
        "print(f\"Test accuracy: {model2.evaluate(int_test_ds)[1]:.3f}\")"
      ],
      "metadata": {
        "id": "k10nkXg-bx8C",
        "colab": {
          "base_uri": "https://localhost:8080/"
        },
        "outputId": "1440f3e9-4ac3-4b44-e15c-add49181c6f3"
      },
      "execution_count": null,
      "outputs": [
        {
          "output_type": "stream",
          "name": "stdout",
          "text": [
            "782/782 [==============================] - 19s 19ms/step - loss: 0.3092 - accuracy: 0.8709\n",
            "Test accuracy: 0.871\n"
          ]
        }
      ]
    },
    {
      "cell_type": "markdown",
      "source": [
        "This model achieved an accuracy of 87.1%, significantly outperforming the previous one. Next, we will use pre-trained word embeddings."
      ],
      "metadata": {
        "id": "ETmVu_RnNIMX"
      }
    },
    {
      "cell_type": "markdown",
      "source": [
        "# Model using Pretrained Word Embeddings\n",
        "\n",
        "---\n",
        "In this section, pretrained word embeddings are utilized in a model for sequence-to-sequence tasks. GloVe (Global Vectors for Word Representation) embeddings are downloaded and extracted from a provided URL. The downloaded embeddings are then loaded and processed to create a dictionary mapping words to their embedding vectors.\n",
        "\n",
        "The vocabulary is obtained using the text_vectorization.get_vocabulary() method, and a word index is created to map words to their indices in the vocabulary.\n",
        "\n",
        "Next, an embedding matrix is constructed using the pretrained word embeddings for words present in the dataset's vocabulary. Words not found in the pretrained embeddings are initialized with zeros.\n",
        "\n",
        "An embedding layer is defined using the constructed embedding matrix. This layer is configured to use the pretrained embedding vectors, set to be non-trainable (trainable=False), and to mask zero values to ignore padding tokens during processing.\n",
        "\n",
        "The model architecture includes an input layer accepting sequences of integer tokens, followed by the pretrained embedding layer. Bidirectional LSTM layer processes the embedded sequences bidirectionally, capturing context from both directions. A dropout layer with a dropout rate of 0.5 is added to prevent overfitting. Finally, a dense output layer with a sigmoid activation function is included for binary classification.\n",
        "\n",
        "The model is compiled with the Adam optimizer and binary crossentropy loss function. Accuracy is chosen as the evaluation metric.\n",
        "\n",
        "Callbacks are defined for model checkpointing to save the best performing model during training.\n",
        "\n",
        "The model is trained using the fit method with the training and validation datasets. After training, the best performing model is loaded, and its performance is evaluated on the test dataset, with the test accuracy printed.\n"
      ],
      "metadata": {
        "id": "9L_0ZrUMOke6"
      }
    },
    {
      "cell_type": "code",
      "source": [
        "!wget http://nlp.stanford.edu/data/glove.6B.zip\n",
        "!unzip -q glove.6B.zip"
      ],
      "metadata": {
        "colab": {
          "base_uri": "https://localhost:8080/"
        },
        "id": "b8iqiLQsOyeu",
        "outputId": "f84d4e3f-9372-48a3-f58f-54d5d7329eb5"
      },
      "execution_count": null,
      "outputs": [
        {
          "output_type": "stream",
          "name": "stdout",
          "text": [
            "--2024-05-29 21:22:00--  http://nlp.stanford.edu/data/glove.6B.zip\n",
            "Resolving nlp.stanford.edu (nlp.stanford.edu)... 171.64.67.140\n",
            "Connecting to nlp.stanford.edu (nlp.stanford.edu)|171.64.67.140|:80... connected.\n",
            "HTTP request sent, awaiting response... 302 Found\n",
            "Location: https://nlp.stanford.edu/data/glove.6B.zip [following]\n",
            "--2024-05-29 21:22:00--  https://nlp.stanford.edu/data/glove.6B.zip\n",
            "Connecting to nlp.stanford.edu (nlp.stanford.edu)|171.64.67.140|:443... connected.\n",
            "HTTP request sent, awaiting response... 301 Moved Permanently\n",
            "Location: https://downloads.cs.stanford.edu/nlp/data/glove.6B.zip [following]\n",
            "--2024-05-29 21:22:00--  https://downloads.cs.stanford.edu/nlp/data/glove.6B.zip\n",
            "Resolving downloads.cs.stanford.edu (downloads.cs.stanford.edu)... 171.64.64.22\n",
            "Connecting to downloads.cs.stanford.edu (downloads.cs.stanford.edu)|171.64.64.22|:443... connected.\n",
            "HTTP request sent, awaiting response... 200 OK\n",
            "Length: 862182613 (822M) [application/zip]\n",
            "Saving to: ‘glove.6B.zip’\n",
            "\n",
            "glove.6B.zip        100%[===================>] 822.24M  5.02MB/s    in 2m 39s  \n",
            "\n",
            "2024-05-29 21:24:39 (5.18 MB/s) - ‘glove.6B.zip’ saved [862182613/862182613]\n",
            "\n"
          ]
        }
      ]
    },
    {
      "cell_type": "code",
      "source": [
        "import numpy as np\n",
        "\n",
        "path_to_glove_file = \"glove.6B.100d.txt\"\n",
        "\n",
        "embeddings_index = {}\n",
        "\n",
        "with open(path_to_glove_file) as f:\n",
        " for line in f:\n",
        "  word, coefs = line.split(maxsplit=1)\n",
        "  coefs = np.fromstring(coefs, \"f\", sep=\" \")\n",
        "  embeddings_index[word] = coefs\n",
        "\n",
        "print(f\"Found {len(embeddings_index)} word vectors.\")"
      ],
      "metadata": {
        "colab": {
          "base_uri": "https://localhost:8080/"
        },
        "id": "URAjplQxPA3X",
        "outputId": "26c45e30-59fe-4acc-b629-9b75a5749112"
      },
      "execution_count": null,
      "outputs": [
        {
          "output_type": "stream",
          "name": "stdout",
          "text": [
            "Found 400000 word vectors.\n"
          ]
        }
      ]
    },
    {
      "cell_type": "code",
      "source": [
        "embedding_dim=100\n",
        "\n",
        "vocabulary = text_vectorization.get_vocabulary()\n",
        "\n",
        "word_index = dict(zip(vocabulary, range(len(vocabulary))))\n",
        "\n",
        "embedding_matrix = np.zeros((max_tokens, embedding_dim))\n",
        "\n",
        "for word, i in word_index.items():\n",
        " if i < max_tokens:\n",
        "  embedding_vector = embeddings_index.get(word)\n",
        " if embedding_vector is not None:\n",
        "  embedding_matrix[i] = embedding_vector"
      ],
      "metadata": {
        "id": "FgDPXdOvQRCu"
      },
      "execution_count": null,
      "outputs": []
    },
    {
      "cell_type": "code",
      "source": [
        "from tensorflow.keras.initializers import Constant\n",
        "\n",
        "embedding_layer = Embedding(input_dim=max_tokens,\n",
        "                            output_dim=embedding_dim,\n",
        "                            embeddings_initializer=Constant(embedding_matrix),\n",
        "                            trainable=False,\n",
        "                            mask_zero=True)"
      ],
      "metadata": {
        "id": "583W7sm9R5Ec"
      },
      "execution_count": null,
      "outputs": []
    },
    {
      "cell_type": "code",
      "source": [
        "inputs = Input(shape=(None,), dtype=\"int64\")\n",
        "\n",
        "embedded = embedding_layer(inputs)\n",
        "\n",
        "x = Bidirectional(LSTM(32))(embedded)\n",
        "x = Dropout(0.5)(x)\n",
        "\n",
        "outputs = Dense(1, activation=\"sigmoid\")(x)\n",
        "\n",
        "model1 = Model(inputs, outputs, name='Model_using_Pretrained_Word_Embeddings')\n",
        "\n",
        "model1.compile(optimizer=\"adam\",\n",
        " loss=\"binary_crossentropy\",\n",
        " metrics=[\"accuracy\"])\n",
        "\n",
        "model1.summary()\n",
        "\n",
        "callbacks = [\n",
        " ModelCheckpoint(\"glove_embeddings_sequence_model.keras\",\n",
        " save_best_only=True)]"
      ],
      "metadata": {
        "colab": {
          "base_uri": "https://localhost:8080/"
        },
        "id": "DKyhEiSSSkRz",
        "outputId": "d84e045a-367e-4857-9ac3-42c17b98dce6"
      },
      "execution_count": null,
      "outputs": [
        {
          "output_type": "stream",
          "name": "stdout",
          "text": [
            "Model: \"Model_using_Pretrained_Word_Embeddings\"\n",
            "_________________________________________________________________\n",
            " Layer (type)                Output Shape              Param #   \n",
            "=================================================================\n",
            " input_6 (InputLayer)        [(None, None)]            0         \n",
            "                                                                 \n",
            " embedding_3 (Embedding)     (None, None, 100)         2000000   \n",
            "                                                                 \n",
            " bidirectional_5 (Bidirecti  (None, 64)                34048     \n",
            " onal)                                                           \n",
            "                                                                 \n",
            " dropout_5 (Dropout)         (None, 64)                0         \n",
            "                                                                 \n",
            " dense_5 (Dense)             (None, 1)                 65        \n",
            "                                                                 \n",
            "=================================================================\n",
            "Total params: 2034113 (7.76 MB)\n",
            "Trainable params: 34113 (133.25 KB)\n",
            "Non-trainable params: 2000000 (7.63 MB)\n",
            "_________________________________________________________________\n"
          ]
        }
      ]
    },
    {
      "cell_type": "code",
      "source": [
        "model1.fit(int_train_ds, validation_data=int_val_ds, epochs=10,\n",
        " callbacks=callbacks)"
      ],
      "metadata": {
        "colab": {
          "base_uri": "https://localhost:8080/"
        },
        "id": "Mm6FxitrS2qI",
        "outputId": "184ec6ce-5921-4cfb-c8ff-9313edb6cae6"
      },
      "execution_count": null,
      "outputs": [
        {
          "output_type": "stream",
          "name": "stdout",
          "text": [
            "Epoch 1/10\n",
            "625/625 [==============================] - 89s 129ms/step - loss: 0.5665 - accuracy: 0.6977 - val_loss: 0.4322 - val_accuracy: 0.8046\n",
            "Epoch 2/10\n",
            "625/625 [==============================] - 75s 120ms/step - loss: 0.4241 - accuracy: 0.8145 - val_loss: 0.3938 - val_accuracy: 0.8198\n",
            "Epoch 3/10\n",
            "625/625 [==============================] - 76s 122ms/step - loss: 0.3816 - accuracy: 0.8373 - val_loss: 0.3684 - val_accuracy: 0.8380\n",
            "Epoch 4/10\n",
            "625/625 [==============================] - 77s 123ms/step - loss: 0.3532 - accuracy: 0.8505 - val_loss: 0.3297 - val_accuracy: 0.8576\n",
            "Epoch 5/10\n",
            "625/625 [==============================] - 49s 78ms/step - loss: 0.3247 - accuracy: 0.8646 - val_loss: 0.3901 - val_accuracy: 0.8343\n",
            "Epoch 6/10\n",
            "625/625 [==============================] - 82s 131ms/step - loss: 0.3034 - accuracy: 0.8740 - val_loss: 0.3070 - val_accuracy: 0.8685\n",
            "Epoch 7/10\n",
            "625/625 [==============================] - 79s 126ms/step - loss: 0.2872 - accuracy: 0.8828 - val_loss: 0.3041 - val_accuracy: 0.8729\n",
            "Epoch 8/10\n",
            "625/625 [==============================] - 78s 124ms/step - loss: 0.2730 - accuracy: 0.8891 - val_loss: 0.2985 - val_accuracy: 0.8776\n",
            "Epoch 9/10\n",
            "625/625 [==============================] - 49s 78ms/step - loss: 0.2558 - accuracy: 0.8955 - val_loss: 0.3055 - val_accuracy: 0.8752\n",
            "Epoch 10/10\n",
            "625/625 [==============================] - 72s 115ms/step - loss: 0.2415 - accuracy: 0.9056 - val_loss: 0.3023 - val_accuracy: 0.8769\n"
          ]
        },
        {
          "output_type": "execute_result",
          "data": {
            "text/plain": [
              "<keras.src.callbacks.History at 0x7f6a2e59ba00>"
            ]
          },
          "metadata": {},
          "execution_count": 41
        }
      ]
    },
    {
      "cell_type": "code",
      "source": [
        "model1 = load_model(\"glove_embeddings_sequence_model.keras\")\n",
        "print(f\"Test acc: {model1.evaluate(int_test_ds)[1]:.3f}\")"
      ],
      "metadata": {
        "colab": {
          "base_uri": "https://localhost:8080/"
        },
        "id": "lajAF1FDTKzT",
        "outputId": "ba5a9efe-c60a-4d38-a0ff-cad4444644c0"
      },
      "execution_count": null,
      "outputs": [
        {
          "output_type": "stream",
          "name": "stdout",
          "text": [
            "782/782 [==============================] - 24s 25ms/step - loss: 0.2985 - accuracy: 0.8776\n",
            "Test acc: 0.878\n"
          ]
        }
      ]
    },
    {
      "cell_type": "markdown",
      "source": [
        "The model performs decently but does not surpass the performance of the bigram and trigram models.\n",
        "\n",
        "Models with pretrained word embedding are only useful when the dataset is very small."
      ],
      "metadata": {
        "id": "9fiuqQxJW8Mg"
      }
    },
    {
      "cell_type": "markdown",
      "source": [
        "# Transformer with Positional Embedding\n",
        "\n",
        "---\n",
        "\n",
        "In this section, a Transformer model with positional embedding is implemented for sequence-to-sequence tasks using TensorFlow's Keras API.\n",
        "\n",
        "The transformer_encoder function defines the transformer encoder block. It includes a multi-head self-attention layer, followed by residual connections and layer normalization. The output is then passed through dense layers for projection and another set of residual connections and layer normalization.\n",
        "\n",
        "The PositionalEmbedding function calculates positional embeddings for the input tokens by adding token embeddings with positional embeddings. It utilizes two embedding layers, one for token embeddings and another for positional embeddings.\n",
        "\n",
        "The main model architecture starts with an input layer accepting sequences of integer tokens. Positional embeddings are added to the input tokens using the PositionalEmbedding function. The transformer_encoder function is applied to the positional embeddings to encode the input sequence. Global max pooling and dropout layers are added for feature extraction and regularization, respectively. Finally, a dense output layer with a sigmoid activation function is included for binary classification.\n",
        "\n",
        "The model is compiled with the Adam optimizer and binary crossentropy loss function. Accuracy is chosen as the evaluation metric.\n",
        "\n",
        "Callbacks are defined for model checkpointing to save the best performing model during training.\n",
        "\n",
        "The model is trained using the fit method with the training and validation datasets. After training, the best performing model is loaded, and its performance is evaluated on the test dataset, with the test accuracy printed."
      ],
      "metadata": {
        "id": "-D01JHN7Xl90"
      }
    },
    {
      "cell_type": "code",
      "source": [
        "from tensorflow.keras.layers import Layer, MultiHeadAttention, LayerNormalization, GlobalMaxPooling1D\n",
        "from tensorflow.keras import Sequential\n",
        "import tensorflow as tf\n",
        "\n",
        "def transformer_encoder(inputs, embed_dim, dense_dim, num_heads, mask=None):\n",
        "\n",
        "  '''\n",
        "    Args:\n",
        "      inputs: input tensor of shape (batch_size, sequence_length, embed_dim)\n",
        "        embed_dim: word embedding dimension\n",
        "        dense_dim: units in the dense layers\n",
        "        num_heads: number of heads in the multi-head attention\n",
        "        mask: mask tensor for attention (optional)\n",
        "  '''\n",
        "\n",
        "    # Multi-head self-attention layer\n",
        "  attention_output = MultiHeadAttention(num_heads=num_heads, key_dim=embed_dim)(inputs, inputs, attention_mask=mask)\n",
        "\n",
        "  # Residual connection and layer normalization\n",
        "  proj_input = LayerNormalization()(inputs + attention_output)\n",
        "\n",
        "  # Dense projection\n",
        "  proj_output = Dense(dense_dim, activation=\"relu\")(proj_input)\n",
        "  proj_output = Dense(embed_dim)(proj_output)\n",
        "\n",
        "  # Second residual connection and layer normalization\n",
        "  output = LayerNormalization()(proj_input + proj_output)\n",
        "\n",
        "  return output"
      ],
      "metadata": {
        "id": "Ff17frnfwUvz"
      },
      "execution_count": null,
      "outputs": []
    },
    {
      "cell_type": "code",
      "source": [
        "def PositionalEmbedding(sequence_length, input_dim, output_dim):\n",
        "    token_embedding_layer = Embedding(input_dim=input_dim, output_dim=output_dim)\n",
        "    position_embedding_layer = Embedding(input_dim=sequence_length, output_dim=output_dim)\n",
        "\n",
        "    def apply_embedding(inputs):\n",
        "        length = tf.shape(inputs)[-1]\n",
        "        positions = tf.range(start=0, limit=length, delta=1)\n",
        "        positions = positions[tf.newaxis, :]\n",
        "        embedded_tokens = token_embedding_layer(inputs)\n",
        "        embedded_positions = position_embedding_layer(positions)\n",
        "        return embedded_tokens + embedded_positions\n",
        "\n",
        "    return apply_embedding"
      ],
      "metadata": {
        "id": "0jB0r_hCZIXh"
      },
      "execution_count": null,
      "outputs": []
    },
    {
      "cell_type": "code",
      "source": [
        "import tensorflow as tf\n",
        "from tensorflow.keras.layers import Input, Embedding, GlobalMaxPooling1D, Dropout, Dense\n",
        "from tensorflow.keras.models import Model\n",
        "\n",
        "# Define the parameters\n",
        "vocab_size = 20000\n",
        "sequence_len = 600\n",
        "embed_dim = 256\n",
        "num_heads = 2\n",
        "dense_dim = 32\n",
        "mask = None\n",
        "\n",
        "# Define the input layer\n",
        "inputs = Input(shape=(sequence_len,), dtype=\"int64\")\n",
        "\n",
        "# Get the positional embedding\n",
        "x = PositionalEmbedding(sequence_len, vocab_size, embed_dim)(inputs)\n",
        "\n",
        "# Apply the transformer_encoder function\n",
        "encoder_output = transformer_encoder(x, embed_dim, dense_dim, num_heads, mask=None)\n",
        "\n",
        "# Apply global max pooling and dropout\n",
        "x = GlobalMaxPooling1D()(encoder_output)\n",
        "x = Dropout(0.5)(x)\n",
        "\n",
        "# Add the output layer\n",
        "outputs = Dense(1, activation=\"sigmoid\")(x)\n",
        "\n",
        "# Create the model\n",
        "model1 = Model(inputs=inputs, outputs=outputs, name='Transformer_architecture_with_Positional_Embedding')\n",
        "\n",
        "# Compile the model\n",
        "model1.compile(optimizer=\"adam\",\n",
        "               loss=\"binary_crossentropy\",\n",
        "               metrics=[\"accuracy\"])\n",
        "\n",
        "# Display model summary\n",
        "model1.summary()\n",
        "\n",
        "callbacks = [\n",
        " ModelCheckpoint(\"transformer_encoder.keras\",\n",
        " save_best_only=True)]"
      ],
      "metadata": {
        "colab": {
          "base_uri": "https://localhost:8080/"
        },
        "id": "Pz1M8dB-_PkA",
        "outputId": "5de84492-49bc-4b3c-aca3-556d7be18304"
      },
      "execution_count": null,
      "outputs": [
        {
          "output_type": "stream",
          "name": "stdout",
          "text": [
            "Model: \"Transformer_architecture_with_Positional_Embedding\"\n",
            "__________________________________________________________________________________________________\n",
            " Layer (type)                Output Shape                 Param #   Connected to                  \n",
            "==================================================================================================\n",
            " input_4 (InputLayer)        [(None, 600)]                0         []                            \n",
            "                                                                                                  \n",
            " tf.compat.v1.shape_1 (TFOp  (2,)                         0         ['input_4[0][0]']             \n",
            " Lambda)                                                                                          \n",
            "                                                                                                  \n",
            " tf.__operators__.getitem_2  ()                           0         ['tf.compat.v1.shape_1[0][0]']\n",
            "  (SlicingOpLambda)                                                                               \n",
            "                                                                                                  \n",
            " tf.range_1 (TFOpLambda)     (600,)                       0         ['tf.__operators__.getitem_2[0\n",
            "                                                                    ][0]']                        \n",
            "                                                                                                  \n",
            " tf.__operators__.getitem_3  (1, 600)                     0         ['tf.range_1[0][0]']          \n",
            "  (SlicingOpLambda)                                                                               \n",
            "                                                                                                  \n",
            " embedding_2 (Embedding)     (None, 600, 256)             5120000   ['input_4[0][0]']             \n",
            "                                                                                                  \n",
            " embedding_3 (Embedding)     (1, 600, 256)                153600    ['tf.__operators__.getitem_3[0\n",
            "                                                                    ][0]']                        \n",
            "                                                                                                  \n",
            " tf.__operators__.add_3 (TF  (None, 600, 256)             0         ['embedding_2[0][0]',         \n",
            " OpLambda)                                                           'embedding_3[0][0]']         \n",
            "                                                                                                  \n",
            " multi_head_attention_1 (Mu  (None, 600, 256)             526080    ['tf.__operators__.add_3[0][0]\n",
            " ltiHeadAttention)                                                  ',                            \n",
            "                                                                     'tf.__operators__.add_3[0][0]\n",
            "                                                                    ']                            \n",
            "                                                                                                  \n",
            " tf.__operators__.add_4 (TF  (None, 600, 256)             0         ['tf.__operators__.add_3[0][0]\n",
            " OpLambda)                                                          ',                            \n",
            "                                                                     'multi_head_attention_1[0][0]\n",
            "                                                                    ']                            \n",
            "                                                                                                  \n",
            " layer_normalization_2 (Lay  (None, 600, 256)             512       ['tf.__operators__.add_4[0][0]\n",
            " erNormalization)                                                   ']                            \n",
            "                                                                                                  \n",
            " dense_4 (Dense)             (None, 600, 32)              8224      ['layer_normalization_2[0][0]'\n",
            "                                                                    ]                             \n",
            "                                                                                                  \n",
            " dense_5 (Dense)             (None, 600, 256)             8448      ['dense_4[0][0]']             \n",
            "                                                                                                  \n",
            " tf.__operators__.add_5 (TF  (None, 600, 256)             0         ['layer_normalization_2[0][0]'\n",
            " OpLambda)                                                          , 'dense_5[0][0]']            \n",
            "                                                                                                  \n",
            " layer_normalization_3 (Lay  (None, 600, 256)             512       ['tf.__operators__.add_5[0][0]\n",
            " erNormalization)                                                   ']                            \n",
            "                                                                                                  \n",
            " global_max_pooling1d_1 (Gl  (None, 256)                  0         ['layer_normalization_3[0][0]'\n",
            " obalMaxPooling1D)                                                  ]                             \n",
            "                                                                                                  \n",
            " dropout_2 (Dropout)         (None, 256)                  0         ['global_max_pooling1d_1[0][0]\n",
            "                                                                    ']                            \n",
            "                                                                                                  \n",
            " dense_6 (Dense)             (None, 1)                    257       ['dropout_2[0][0]']           \n",
            "                                                                                                  \n",
            "==================================================================================================\n",
            "Total params: 5817633 (22.19 MB)\n",
            "Trainable params: 5817633 (22.19 MB)\n",
            "Non-trainable params: 0 (0.00 Byte)\n",
            "__________________________________________________________________________________________________\n"
          ]
        }
      ]
    },
    {
      "cell_type": "code",
      "source": [
        "model1.fit(int_train_ds, validation_data=int_val_ds, epochs=15,\n",
        " callbacks=callbacks)"
      ],
      "metadata": {
        "colab": {
          "base_uri": "https://localhost:8080/"
        },
        "id": "P4QA63OI4oB3",
        "outputId": "a8182ed6-6b79-4f75-bcf4-50664c9b82e7"
      },
      "execution_count": null,
      "outputs": [
        {
          "output_type": "stream",
          "name": "stdout",
          "text": [
            "Epoch 1/15\n",
            "625/625 [==============================] - 88s 131ms/step - loss: 0.5789 - accuracy: 0.7031 - val_loss: 0.3398 - val_accuracy: 0.8519\n",
            "Epoch 2/15\n",
            "625/625 [==============================] - 69s 111ms/step - loss: 0.2619 - accuracy: 0.8911 - val_loss: 0.3244 - val_accuracy: 0.8708\n",
            "Epoch 3/15\n",
            "625/625 [==============================] - 63s 100ms/step - loss: 0.1186 - accuracy: 0.9563 - val_loss: 0.5441 - val_accuracy: 0.8537\n",
            "Epoch 4/15\n",
            "625/625 [==============================] - 61s 98ms/step - loss: 0.0636 - accuracy: 0.9778 - val_loss: 0.6043 - val_accuracy: 0.8509\n",
            "Epoch 5/15\n",
            "625/625 [==============================] - 60s 96ms/step - loss: 0.0359 - accuracy: 0.9875 - val_loss: 0.6376 - val_accuracy: 0.8410\n",
            "Epoch 6/15\n",
            "625/625 [==============================] - 60s 96ms/step - loss: 0.0325 - accuracy: 0.9891 - val_loss: 0.7956 - val_accuracy: 0.8299\n",
            "Epoch 7/15\n",
            "625/625 [==============================] - 59s 94ms/step - loss: 0.0220 - accuracy: 0.9929 - val_loss: 0.8902 - val_accuracy: 0.8377\n",
            "Epoch 8/15\n",
            "625/625 [==============================] - 60s 97ms/step - loss: 0.0240 - accuracy: 0.9919 - val_loss: 0.8815 - val_accuracy: 0.8436\n",
            "Epoch 9/15\n",
            "625/625 [==============================] - 59s 95ms/step - loss: 0.0198 - accuracy: 0.9934 - val_loss: 0.8251 - val_accuracy: 0.8414\n",
            "Epoch 10/15\n",
            "625/625 [==============================] - 59s 94ms/step - loss: 0.0168 - accuracy: 0.9943 - val_loss: 0.9605 - val_accuracy: 0.8420\n",
            "Epoch 11/15\n",
            "625/625 [==============================] - 58s 93ms/step - loss: 0.0182 - accuracy: 0.9939 - val_loss: 0.7938 - val_accuracy: 0.8402\n",
            "Epoch 12/15\n",
            "625/625 [==============================] - 58s 94ms/step - loss: 0.0176 - accuracy: 0.9944 - val_loss: 0.8058 - val_accuracy: 0.8366\n",
            "Epoch 13/15\n",
            "625/625 [==============================] - 59s 94ms/step - loss: 0.0193 - accuracy: 0.9934 - val_loss: 1.0200 - val_accuracy: 0.8286\n",
            "Epoch 14/15\n",
            "625/625 [==============================] - 58s 93ms/step - loss: 0.0153 - accuracy: 0.9952 - val_loss: 1.0915 - val_accuracy: 0.8350\n",
            "Epoch 15/15\n",
            "625/625 [==============================] - 58s 93ms/step - loss: 0.0156 - accuracy: 0.9945 - val_loss: 1.1106 - val_accuracy: 0.8220\n"
          ]
        },
        {
          "output_type": "execute_result",
          "data": {
            "text/plain": [
              "<keras.src.callbacks.History at 0x7a68a03498a0>"
            ]
          },
          "metadata": {},
          "execution_count": 32
        }
      ]
    },
    {
      "cell_type": "code",
      "source": [
        "model1 = load_model(\"transformer_encoder.keras\")\n",
        "print(f\"Test acc: {model1.evaluate(int_test_ds)[1]:.3f}\")"
      ],
      "metadata": {
        "colab": {
          "base_uri": "https://localhost:8080/"
        },
        "id": "Px5p1Ey0jepH",
        "outputId": "c82ecccc-a44d-4e24-e94f-48869db1df93"
      },
      "execution_count": null,
      "outputs": [
        {
          "output_type": "stream",
          "name": "stdout",
          "text": [
            "782/782 [==============================] - 20s 25ms/step - loss: 0.3244 - accuracy: 0.8708\n",
            "Test acc: 0.871\n"
          ]
        }
      ]
    },
    {
      "cell_type": "markdown",
      "source": [
        "The analysis evaluated various text representation models to determine their effectiveness in sentiment analysis, focusing on their classification accuracy. Among the Bag-of-Words (BoW) models, the TriGram model achieved the highest accuracy at 89.7%, followed by the BiGram model at 89.5%, and the UniGram model at 86.6%. When incorporating TF-IDF with the BiGram model, the accuracy slightly decreased to 88.7%.\n",
        "\n",
        "In the sequence-to-sequence models, one-hot encoded vectors resulted in an accuracy of 85.7%. Using word embeddings showed improvement: standard word embeddings reached 87.1%, while pre-trained word embeddings (GloVe) achieved 87.8%. The Transformer model with positional encoding matched the standard word embedding performance with an accuracy of 87.1%.\n",
        "\n",
        "Overall, the TriGram model exhibited the highest accuracy, highlighting the importance of capturing word sequences in sentiment analysis. Based on these results, the TriGram model was selected as the best-performing model. It will be used to predict sentiment on two random movie reviews."
      ],
      "metadata": {
        "id": "imTWj23wkIUe"
      }
    },
    {
      "cell_type": "markdown",
      "source": [
        "# Sentiment Prediction with the Best Model: Unseen Reviews\n",
        "\n",
        "---\n",
        "In this section, sentiment prediction is performed using the best-trained model on unseen reviews.\n",
        "\n",
        "Three example sentences are provided for sentiment prediction: \"It was a terrible movie.\", \"The movie was great. The music was outstanding!\", and \"Excellent! Loved every bit of it!\".\n",
        "\n",
        "The sentences are tokenized using the same tokenizer used during training to convert them into integer sequences.\n",
        "\n",
        "The best-trained model (3-gram approach) is loaded for prediction. Predictions are made on the tokenized sequences using the loaded model, resulting in probability scores for each class (positive or negative sentiment).\n",
        "\n",
        "A threshold of 0.5 is applied to convert the probability scores into binary classes, where values above the threshold are classified as positive sentiment (1) and values below or equal to the threshold are classified as negative sentiment (0).\n",
        "\n",
        "The predicted classes are then printed to display the sentiment prediction for each input sentence.\n"
      ],
      "metadata": {
        "id": "4TqvYO3uhEwo"
      }
    },
    {
      "cell_type": "code",
      "source": [
        "from tensorflow.keras.preprocessing.text import Tokenizer\n",
        "from tensorflow.keras.preprocessing.sequence import pad_sequences\n",
        "\n",
        "# Define the sentences to predict.\n",
        "sentences_to_predict = [\"It was a terrible movie.\", \"The movie was great. The music was outstanding!\", \"Excellent! Loved every bit of it!\"]\n",
        "\n",
        "# Convert the sentences into integer sequences.\n",
        "tokenized_sentences = text_vectorization(sentences_to_predict)\n",
        "\n",
        "# Load the best model for prediction.\n",
        "model_final = load_model(\"binary_3gram.keras\")\n",
        "\n",
        "# Make predictions on the padded sequences.\n",
        "predictions = model_final.predict(tokenized_sentences)\n",
        "\n",
        "# Assuming binary classification, you can use a threshold (e.g., 0.5) to convert probabilities to classes.\n",
        "threshold = 0.5\n",
        "predicted_classes = (predictions > threshold).astype(\"int32\")\n",
        "\n",
        "# Display the predicted classes.\n",
        "print(predicted_classes)"
      ],
      "metadata": {
        "colab": {
          "base_uri": "https://localhost:8080/"
        },
        "id": "yO1y3p0dkmlC",
        "outputId": "d427b7be-41a8-4107-f673-0f0300dce782"
      },
      "execution_count": null,
      "outputs": [
        {
          "output_type": "stream",
          "name": "stdout",
          "text": [
            "1/1 [==============================] - 0s 41ms/step\n",
            "[[0]\n",
            " [1]\n",
            " [1]]\n"
          ]
        }
      ]
    }
  ]
}